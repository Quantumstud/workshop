{
 "cells": [
  {
   "cell_type": "markdown",
   "metadata": {},
   "source": [
    "# Materials API - Exercise 1\n",
    "\n",
    "In this excercise, your task is to plot the distribution of crystal systems (cubic, tetragonal, monoclinic, etc) within all SiO$_2$ compounds. You will do this through the following 3 steps:\n",
    "\n",
    "1. Retrieve the spacegroup entries in the MP database with the formula SiO$_2$\n",
    "2. Collect their crystal systems\n",
    "3. Plot a bar chart with the data"
   ]
  },
  {
   "cell_type": "markdown",
   "metadata": {},
   "source": [
    "## Step 1: Retrieve the spacegroup entries in the MP database with the formula SiO$_2$\n",
    "\n",
    "Use the Materials API to get the __\"spacegroup\"__ property for all SiO$_2$ compounds. \n",
    "\n",
    "_Hint: use the `query` method of the `MPRester`._"
   ]
  },
  {
   "cell_type": "code",
   "execution_count": 15,
   "metadata": {},
   "outputs": [],
   "source": [
    "# Your code here\n",
    "from pymatgen import MPRester\n",
    "\n",
    "with MPRester(\"9LO7vrUFbVTMaxdK\") as mpr:\n",
    "    SiO2_entries = mpr.query(\"SiO2\", [\"spacegroup\"])\n"
   ]
  },
  {
   "cell_type": "markdown",
   "metadata": {},
   "source": [
    "## Step 2: Extract the crystal_system property for the entries we retrieved into a list\n",
    "\n",
    "_Hint: \"crystal_system\" is a subkey of the spacegroup property._"
   ]
  },
  {
   "cell_type": "code",
   "execution_count": 17,
   "metadata": {},
   "outputs": [
    {
     "ename": "NameError",
     "evalue": "name 'entry_' is not defined",
     "output_type": "error",
     "traceback": [
      "\u001b[0;31m---------------------------------------------------------------------------\u001b[0m",
      "\u001b[0;31mNameError\u001b[0m                                 Traceback (most recent call last)",
      "\u001b[0;32m<ipython-input-17-5f7a8bd44e95>\u001b[0m in \u001b[0;36m<module>\u001b[0;34m\u001b[0m\n\u001b[1;32m      3\u001b[0m \u001b[0mcrystal_systems\u001b[0m \u001b[0;34m=\u001b[0m \u001b[0;34m[\u001b[0m\u001b[0;34m]\u001b[0m\u001b[0;34m\u001b[0m\u001b[0;34m\u001b[0m\u001b[0m\n\u001b[1;32m      4\u001b[0m \u001b[0;32mfor\u001b[0m \u001b[0mentry\u001b[0m \u001b[0;32min\u001b[0m \u001b[0mSiO2_structures\u001b[0m\u001b[0;34m:\u001b[0m\u001b[0;34m\u001b[0m\u001b[0;34m\u001b[0m\u001b[0m\n\u001b[0;32m----> 5\u001b[0;31m     \u001b[0mprint\u001b[0m\u001b[0;34m(\u001b[0m\u001b[0mentry_\u001b[0m\u001b[0;34m)\u001b[0m\u001b[0;34m\u001b[0m\u001b[0;34m\u001b[0m\u001b[0m\n\u001b[0m\u001b[1;32m      6\u001b[0m     \u001b[0mcrystal_systems\u001b[0m\u001b[0;34m.\u001b[0m\u001b[0mappend\u001b[0m\u001b[0;34m(\u001b[0m\u001b[0mentry\u001b[0m\u001b[0;34m[\u001b[0m\u001b[0;34m\"spacegroup\"\u001b[0m\u001b[0;34m]\u001b[0m\u001b[0;34m[\u001b[0m\u001b[0;34m\"crystal_system\"\u001b[0m\u001b[0;34m]\u001b[0m\u001b[0;34m)\u001b[0m\u001b[0;34m\u001b[0m\u001b[0;34m\u001b[0m\u001b[0m\n",
      "\u001b[0;31mNameError\u001b[0m: name 'entry_' is not defined"
     ]
    }
   ],
   "source": [
    "# Your code here\n",
    "\n",
    "crystal_systems = []\n",
    "for entry in SiO2_structures:\n",
    "    print(entry_)\n",
    "    crystal_systems.append(entry[\"spacegroup\"][\"crystal_system\"])"
   ]
  },
  {
   "cell_type": "code",
   "execution_count": 14,
   "metadata": {},
   "outputs": [
    {
     "data": {
      "text/plain": [
       "Structure Summary\n",
       "Lattice\n",
       "    abc : 8.233705 8.233705 5.560957\n",
       " angles : 90.0 90.0 90.0\n",
       " volume : 376.9989517906709\n",
       "      A : 8.233705 0.0 0.0\n",
       "      B : 0.0 8.233705 0.0\n",
       "      C : 0.0 0.0 5.560957\n",
       "PeriodicSite: Si (2.5838, 7.6672, 2.7805) [0.3138, 0.9312, 0.5000]\n",
       "PeriodicSite: Si (5.6499, 7.6672, 0.0000) [0.6862, 0.9312, 0.0000]\n",
       "PeriodicSite: Si (5.6499, 0.5665, 2.7805) [0.6862, 0.0688, 0.5000]\n",
       "PeriodicSite: Si (7.6672, 5.6499, 0.0000) [0.9312, 0.6862, 0.0000]\n",
       "PeriodicSite: Si (7.6672, 2.5838, 2.7805) [0.9312, 0.3138, 0.5000]\n",
       "PeriodicSite: Si (2.5838, 0.5665, 0.0000) [0.3138, 0.0688, 0.0000]\n",
       "PeriodicSite: Si (0.5665, 2.5838, 0.0000) [0.0688, 0.3138, 0.0000]\n",
       "PeriodicSite: Si (0.5665, 5.6499, 2.7805) [0.0688, 0.6862, 0.5000]\n",
       "PeriodicSite: O (2.1899, 6.0438, 2.7805) [0.2660, 0.7340, 0.5000]\n",
       "PeriodicSite: O (6.0438, 6.0438, 0.0000) [0.7340, 0.7340, 0.0000]\n",
       "PeriodicSite: O (1.9467, 0.0000, 1.3902) [0.2364, 0.0000, 0.2500]\n",
       "PeriodicSite: O (6.0438, 2.1899, 2.7805) [0.7340, 0.2660, 0.5000]\n",
       "PeriodicSite: O (2.1899, 2.1899, 0.0000) [0.2660, 0.2660, 0.0000]\n",
       "PeriodicSite: O (1.9467, 0.0000, 4.1707) [0.2364, 0.0000, 0.7500]\n",
       "PeriodicSite: O (0.0000, 1.9467, 4.1707) [0.0000, 0.2364, 0.7500]\n",
       "PeriodicSite: O (0.0000, 6.2870, 4.1707) [0.0000, 0.7636, 0.7500]\n",
       "PeriodicSite: O (0.0000, 6.2870, 1.3902) [0.0000, 0.7636, 0.2500]\n",
       "PeriodicSite: O (0.0000, 4.1169, 2.7805) [0.0000, 0.5000, 0.5000]\n",
       "PeriodicSite: O (6.2870, 0.0000, 4.1707) [0.7636, 0.0000, 0.7500]\n",
       "PeriodicSite: O (0.0000, 1.9467, 1.3902) [0.0000, 0.2364, 0.2500]\n",
       "PeriodicSite: O (4.1169, 0.0000, 0.0000) [0.5000, 0.0000, 0.0000]\n",
       "PeriodicSite: O (6.2870, 0.0000, 1.3902) [0.7636, 0.0000, 0.2500]\n",
       "PeriodicSite: O (4.1169, 0.0000, 2.7805) [0.5000, 0.0000, 0.5000]\n",
       "PeriodicSite: O (0.0000, 4.1169, 0.0000) [0.0000, 0.5000, 0.0000]"
      ]
     },
     "execution_count": 14,
     "metadata": {},
     "output_type": "execute_result"
    }
   ],
   "source": [
    "SiO2_structures[0][\"structure\"]"
   ]
  },
  {
   "cell_type": "markdown",
   "metadata": {},
   "source": [
    "## Step 3: Process the data and plot the results\n",
    "\n",
    "Our data is currently a list of crystal systems. Your task now is to create a \"count_dict\" where each key is the name of the crystal system and it's value is the count for that crystal system. Once you have written code to create `count_dict`, you the cell beneath it will plot the data for you.\n",
    "\n",
    "_Hint: Iterate through the list of crystal_systems you just created using a for loop and check if they are already in the dictionary before updating any entries._"
   ]
  },
  {
   "cell_type": "code",
   "execution_count": null,
   "metadata": {},
   "outputs": [],
   "source": [
    "count_dict = {}\n",
    "# Your code here"
   ]
  },
  {
   "cell_type": "code",
   "execution_count": null,
   "metadata": {},
   "outputs": [],
   "source": [
    "import matplotlib.pyplot as plt\n",
    "\n",
    "%matplotlib inline\n",
    "\n",
    "# The code below plots the distribution\n",
    "plt.bar(range(len(count_dict)), count_dict.values(), align='center')\n",
    "plt.xticks(range(len(count_dict)), [key[0:5] for key in list(count_dict.keys())])\n",
    "plt.title('Distribution of crystal systems within SiO2 compounds')\n",
    "plt.show()"
   ]
  },
  {
   "cell_type": "code",
   "execution_count": null,
   "metadata": {},
   "outputs": [],
   "source": []
  }
 ],
 "metadata": {
  "kernelspec": {
   "display_name": "Python 3",
   "language": "python",
   "name": "python3"
  },
  "language_info": {
   "codemirror_mode": {
    "name": "ipython",
    "version": 3
   },
   "file_extension": ".py",
   "mimetype": "text/x-python",
   "name": "python",
   "nbconvert_exporter": "python",
   "pygments_lexer": "ipython3",
   "version": "3.8.5"
  }
 },
 "nbformat": 4,
 "nbformat_minor": 4
}
