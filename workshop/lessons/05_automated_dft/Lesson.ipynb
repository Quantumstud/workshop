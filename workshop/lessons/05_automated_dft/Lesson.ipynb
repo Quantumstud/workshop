{
 "cells": [
  {
   "cell_type": "markdown",
   "metadata": {},
   "source": [
    "# Automated DFT\n",
    "\n",
    "This lesson focuses on key concepts necessary to run automated Density Functional Theory (DFT) workflows using our atomate code. We begin by focusing on using pymatgen to build inputs and parsing outputs of DFT calculations. We then build an understanding of `InputSets` in pymatgen, a key capability to automate running DFT. We finally go through a demonstration of using atomate.\n",
    "\n",
    "\n",
    "## Core Concepts\n",
    "- **Input/Output** - There is an enitre module in pymatgen devoted to reading and writing the input and output files of other codes\n",
    "- **Input Sets** - Standardizing the input options to various codes allows for repeatability and automatically generitng inputs for a new calculation\n",
    "- **Atomate** - This is a set of automated recipes for computing materials and molecular properties using density functional theory"
   ]
  },
  {
   "cell_type": "markdown",
   "metadata": {},
   "source": [
    "## Lesson 1: Using Pymatgen IO\n",
    "\n",
    "For the first lesson we'll focus on using pymatgen to interface with DFT codes in the most simple way possible. Pymatgen has a IO module which is designed to have methods to parse and write files that are compatible with a number of external codes. These include:\n",
    "\n",
    "- AbInit\n",
    "- EXCITING\n",
    "- FEFF\n",
    "- LAMMPS\n",
    "- Lobster\n",
    "- QChem\n",
    "- VASP\n",
    "- ATAT\n",
    "- Gaussian\n",
    "- NWCHem\n",
    "- ShengBTE\n",
    "- Wannier90\n",
    "- Zeo++\n",
    "\n",
    "For the purpose of this tutorial, we'll focus on using VASP and QChem as these are the primary DFT codes used by the Materials Project.\n",
    "\n",
    "### VASP Inputs\n",
    "Let's beging by reading some VASP inputs for an Al-Cr alloy structure:"
   ]
  },
  {
   "cell_type": "code",
   "execution_count": 1,
   "metadata": {},
   "outputs": [],
   "source": [
    "from pymatgen import Structure\n",
    "struc = Structure.from_file(\"Al16Cr10.cif\")"
   ]
  },
  {
   "cell_type": "markdown",
   "metadata": {},
   "source": [
    "This is a CIF file which is not compatible with many DFT codes. Each code has its own input structure. Next, we'll make a POSCAR file which is the way structures are represented in VASP"
   ]
  },
  {
   "cell_type": "code",
   "execution_count": 2,
   "metadata": {
    "scrolled": true
   },
   "outputs": [
    {
     "name": "stdout",
     "output_type": "stream",
     "text": [
      "Al16 Cr10\n",
      "1.0\n",
      "7.417988 0.000000 -2.655322\n",
      "-3.770804 6.388081 -2.655321\n",
      "0.000000 0.000000 7.878914\n",
      "Al Cr\n",
      "16 10\n",
      "direct\n",
      "0.696455 0.696455 0.696455 Al\n",
      "0.646563 0.002044 0.646563 Al\n",
      "0.646563 0.646563 0.002044 Al\n",
      "0.002044 0.646563 0.646563 Al\n",
      "0.336523 0.558569 0.336523 Al\n",
      "0.336523 0.336523 0.558569 Al\n",
      "0.558569 0.336523 0.336523 Al\n",
      "0.734771 0.383622 0.734771 Al\n",
      "0.734771 0.734771 0.383622 Al\n",
      "0.383622 0.734771 0.734771 Al\n",
      "0.280797 0.666745 0.038053 Al\n",
      "0.038053 0.280797 0.666745 Al\n",
      "0.666745 0.038053 0.280797 Al\n",
      "0.666745 0.280797 0.038053 Al\n",
      "0.038053 0.666745 0.280797 Al\n",
      "0.280797 0.038053 0.666745 Al\n",
      "0.151124 0.151124 0.151124 Cr\n",
      "0.015343 0.797266 0.015343 Cr\n",
      "0.015343 0.015343 0.797266 Cr\n",
      "0.797266 0.015343 0.015343 Cr\n",
      "0.987828 0.333690 0.987828 Cr\n",
      "0.987828 0.987828 0.333690 Cr\n",
      "0.333690 0.987828 0.987828 Cr\n",
      "0.365023 0.015932 0.365023 Cr\n",
      "0.365023 0.365023 0.015932 Cr\n",
      "0.015932 0.365023 0.365023 Cr\n",
      "\n"
     ]
    }
   ],
   "source": [
    "from pymatgen.io.vasp.inputs import Poscar\n",
    "\n",
    "poscar = Poscar(structure=struc)\n",
    "print(poscar)"
   ]
  },
  {
   "cell_type": "markdown",
   "metadata": {},
   "source": [
    "Note that this POSCAR object has a method that lets you write it out as a file. This makes it very easy to construct complex structures such as heterostructures or adsorbates on surfaces and write them out to compute using a DFT code like VASP.\n",
    "\n",
    "For the purpose of this example, we've provided a completed VASP calculation under `VASP_Al16Cr10_example`. Let's use pymatgen to read the inputs in this directory"
   ]
  },
  {
   "cell_type": "code",
   "execution_count": 3,
   "metadata": {
    "scrolled": true
   },
   "outputs": [
    {
     "name": "stdout",
     "output_type": "stream",
     "text": [
      "Al16 Cr10\n",
      "1.0\n",
      "7.430657 -0.067234 -2.618797\n",
      "-3.680038 6.455734 -2.618797\n",
      "-0.039473 -0.067234 7.878528\n",
      "Al Cr\n",
      "16 10\n",
      "direct\n",
      "0.696455 0.696455 0.696455 Al\n",
      "0.646563 0.002044 0.646563 Al\n",
      "0.646563 0.646563 0.002044 Al\n",
      "0.002044 0.646563 0.646563 Al\n",
      "0.336523 0.558569 0.336523 Al\n",
      "0.336523 0.336523 0.558569 Al\n",
      "0.558569 0.336523 0.336523 Al\n",
      "0.734771 0.383622 0.734771 Al\n",
      "0.734771 0.734771 0.383622 Al\n",
      "0.383622 0.734771 0.734771 Al\n",
      "0.280797 0.666745 0.038053 Al\n",
      "0.038053 0.280797 0.666745 Al\n",
      "0.666745 0.038053 0.280797 Al\n",
      "0.666745 0.280797 0.038053 Al\n",
      "0.038053 0.666745 0.280797 Al\n",
      "0.280797 0.038053 0.666745 Al\n",
      "0.151124 0.151124 0.151124 Cr\n",
      "0.015343 0.797266 0.015343 Cr\n",
      "0.015343 0.015343 0.797266 Cr\n",
      "0.797266 0.015343 0.015343 Cr\n",
      "0.987828 0.333690 0.987828 Cr\n",
      "0.987828 0.987828 0.333690 Cr\n",
      "0.333690 0.987828 0.987828 Cr\n",
      "0.365023 0.015932 0.365023 Cr\n",
      "0.365023 0.365023 0.015932 Cr\n",
      "0.015932 0.365023 0.365023 Cr\n",
      "\n"
     ]
    },
    {
     "name": "stderr",
     "output_type": "stream",
     "text": [
      "/Users/shyamd/Dropbox/Codes/pymatgen/pymatgen/io/vasp/inputs.py:1853: UnknownPotcarWarning: POTCAR with symbol Al has metadata that does not match                          any VASP POTCAR known to pymatgen. The data in this                          POTCAR is known to match the following functionals:                          ['PBE']\n",
      "  warnings.warn(\"POTCAR with symbol {} has metadata that does not match\\\n",
      "/Users/shyamd/Dropbox/Codes/pymatgen/pymatgen/io/vasp/inputs.py:1853: UnknownPotcarWarning: POTCAR with symbol Cr_pv has metadata that does not match                          any VASP POTCAR known to pymatgen. The data in this                          POTCAR is known to match the following functionals:                          ['PBE']\n",
      "  warnings.warn(\"POTCAR with symbol {} has metadata that does not match\\\n"
     ]
    }
   ],
   "source": [
    "poscar = Poscar.from_file(\"./VASP_Al16Cr10_example//POSCAR.gz\")\n",
    "print(poscar)"
   ]
  },
  {
   "cell_type": "markdown",
   "metadata": {},
   "source": [
    "In this POSCAR object there is a full pymatgen Structure we can grab and use pythonically if we have a manipulation we want to apply. "
   ]
  },
  {
   "cell_type": "code",
   "execution_count": 4,
   "metadata": {
    "scrolled": true
   },
   "outputs": [
    {
     "data": {
      "text/plain": [
       "Structure Summary\n",
       "Lattice\n",
       "    abc : 7.878913731575819 7.87891356009247 7.878913756049688\n",
       " angles : 109.69518778724337 109.69519443176932 109.69518691661757\n",
       " volume : 373.35579693687976\n",
       "      A : 7.430657 -0.067234 -2.618797\n",
       "      B : -3.680038 6.455734 -2.618797\n",
       "      C : -0.039473 -0.067234 7.878528\n",
       "PeriodicSite: Al (2.5846, 4.4025, 1.8393) [0.6965, 0.6965, 0.6965]\n",
       "PeriodicSite: Al (4.7713, -0.0737, 3.3954) [0.6466, 0.0020, 0.6466]\n",
       "PeriodicSite: Al (2.4249, 4.1304, -3.3703) [0.6466, 0.6466, 0.0020]\n",
       "PeriodicSite: Al (-2.3897, 4.1304, 3.3954) [0.0020, 0.6466, 0.6466]\n",
       "PeriodicSite: Al (0.4317, 3.5607, 0.3072) [0.3365, 0.5586, 0.3365]\n",
       "PeriodicSite: Al (1.2401, 2.1123, 2.6381) [0.3365, 0.3365, 0.5586]\n",
       "PeriodicSite: Al (2.8988, 2.1123, 0.3072) [0.5586, 0.3365, 0.3365]\n",
       "PeriodicSite: Al (4.0191, 2.3778, 2.8601) [0.7348, 0.3836, 0.7348]\n",
       "PeriodicSite: Al (2.7407, 4.6683, -0.8261) [0.7348, 0.7348, 0.3836]\n",
       "PeriodicSite: Al (0.1176, 4.6683, 2.8601) [0.3836, 0.7348, 0.7348]\n",
       "PeriodicSite: Al (-0.3686, 4.2829, -2.1816) [0.2808, 0.6667, 0.0381]\n",
       "PeriodicSite: Al (-0.7769, 1.7654, 4.4180) [0.0381, 0.2808, 0.6667]\n",
       "PeriodicSite: Al (4.8032, 0.1820, 0.3665) [0.6667, 0.0381, 0.2808]\n",
       "PeriodicSite: Al (3.9195, 1.7654, -2.1816) [0.6667, 0.2808, 0.0381]\n",
       "PeriodicSite: Al (-2.1820, 4.2829, 0.3665) [0.0381, 0.6667, 0.2808]\n",
       "PeriodicSite: Al (1.9202, 0.1820, 4.4180) [0.2808, 0.0381, 0.6667]\n",
       "PeriodicSite: Cr (0.5608, 0.9553, 0.3991) [0.1511, 0.1511, 0.1511]\n",
       "PeriodicSite: Cr (-2.8206, 5.1449, -2.0072) [0.0153, 0.7973, 0.0153]\n",
       "PeriodicSite: Cr (0.0261, 0.0444, 6.2009) [0.0153, 0.0153, 0.7973]\n",
       "PeriodicSite: Cr (5.8671, 0.0444, -2.0072) [0.7973, 0.0153, 0.0153]\n",
       "PeriodicSite: Cr (6.0732, 2.0214, 4.3218) [0.9878, 0.3337, 0.9878]\n",
       "PeriodicSite: Cr (3.6918, 6.2883, -2.5449) [0.9878, 0.9878, 0.3337]\n",
       "PeriodicSite: Cr (-1.1947, 6.2883, 4.3218) [0.3337, 0.9878, 0.9878]\n",
       "PeriodicSite: Cr (2.6393, 0.0538, 1.8782) [0.3650, 0.0159, 0.3650]\n",
       "PeriodicSite: Cr (1.3684, 2.3309, -1.7863) [0.3650, 0.3650, 0.0159]\n",
       "PeriodicSite: Cr (-1.2393, 2.3309, 1.8782) [0.0159, 0.3650, 0.3650]"
      ]
     },
     "execution_count": 4,
     "metadata": {},
     "output_type": "execute_result"
    }
   ],
   "source": [
    "poscar.structure"
   ]
  },
  {
   "cell_type": "markdown",
   "metadata": {},
   "source": [
    "VASP has three other primary input files: KPOINTS, POTCAR, and INCAR. Each of these has a corresponding object. Each of these can read and write the corresponding VASP Files. Let's read the inputs in the `Al16Cr10_VASP` directory included in this lesson. Let's look at the POTCAR file next."
   ]
  },
  {
   "cell_type": "code",
   "execution_count": 5,
   "metadata": {},
   "outputs": [
    {
     "name": "stdout",
     "output_type": "stream",
     "text": [
      "['Al', 'Cr_pv']\n"
     ]
    }
   ],
   "source": [
    "from pymatgen.io.vasp.inputs import Potcar\n",
    "\n",
    "al_cr_potcar = Potcar.from_file(\"./VASP_Al16Cr10_example/POTCAR.gz\")\n",
    "print(al_cr_potcar.symbols)"
   ]
  },
  {
   "cell_type": "markdown",
   "metadata": {},
   "source": [
    "Note the above warning suggesting something is wrong with these POTCARs. We maintain a list of hashes of VASP POTCARs to ensure the data is not corrupted when VASP is run.  For the purpose of this lesson, we've included fake POTCARs as the offical POTCARs are licensed by VASP. You can always check the hash of your own POTCARs by investigating the `spec` of the Potcar object."
   ]
  },
  {
   "cell_type": "code",
   "execution_count": 6,
   "metadata": {},
   "outputs": [
    {
     "name": "stdout",
     "output_type": "stream",
     "text": [
      "[{'symbol': 'Al', 'hash': 'a6fd9a46aec185f4ad2acd0cbe4ae2fa'}, {'symbol': 'Cr_pv', 'hash': 'eb23364cc25164418f9f79efd8f04f7d'}]\n"
     ]
    }
   ],
   "source": [
    "print(al_cr_potcar.spec)"
   ]
  },
  {
   "cell_type": "markdown",
   "metadata": {},
   "source": [
    "### VASP Outputs\n",
    "\n",
    "Once, you've run VASP, you'll need to parse the VASP outputs to get the data you want. VASP makes a number of output files: \n",
    "\n",
    "- WAVECAR\n",
    "- CHGCAR\n",
    "- OUTCAR\n",
    "- vasprun.xml\n",
    "- PROCAR\n",
    "- And more ...\n",
    "\n",
    "Please read the [VASP documentation](https://www.vasp.at/wiki/index.php/The_VASP_Manual) for a good description of what these all are. For this lesson. We'll focus on `vasprun.xml` in the `Al16Cr10_vasp` directory. The Vasprun contains a lot information that can be parsed using the `Vasprun` object in pymatgen"
   ]
  },
  {
   "cell_type": "code",
   "execution_count": 7,
   "metadata": {},
   "outputs": [],
   "source": [
    "from pymatgen.io.vasp.outputs import Vasprun\n",
    "\n",
    "vrun = Vasprun(filename=\"./VASP_Al16Cr10_example/vasprun.xml.gz\")"
   ]
  },
  {
   "cell_type": "markdown",
   "metadata": {},
   "source": [
    "Since VASPRUN has most of the information that VASP can provide, this one object is often enough to parse a full VASP calculation. The various properties available from the VASPRUN are properties in the `Vasprun` object. Use Shift+Tab to look through all the properties and try some out"
   ]
  },
  {
   "cell_type": "code",
   "execution_count": 8,
   "metadata": {},
   "outputs": [
    {
     "data": {
      "text/plain": [
       "'5.4.4.18Apr17-6-g9f103f2a35'"
      ]
     },
     "execution_count": 8,
     "metadata": {},
     "output_type": "execute_result"
    }
   ],
   "source": [
    "vrun.vasp_version"
   ]
  },
  {
   "cell_type": "markdown",
   "metadata": {},
   "source": [
    "We can see what actual kpoints VASP used when it auto-generated it's mesh to run DFT on:"
   ]
  },
  {
   "cell_type": "code",
   "execution_count": 9,
   "metadata": {
    "scrolled": true
   },
   "outputs": [
    {
     "data": {
      "text/plain": [
       "[[0.0, 0.0, 0.0],\n",
       " [0.33333333, -0.0, -0.0],\n",
       " [0.0, 0.33333333, 0.0],\n",
       " [0.33333333, 0.33333333, 0.0],\n",
       " [-0.33333333, 0.33333333, 0.0],\n",
       " [0.0, -0.0, 0.33333333],\n",
       " [0.33333333, -0.0, 0.33333333],\n",
       " [-0.33333333, 0.0, 0.33333333],\n",
       " [0.0, 0.33333333, 0.33333333],\n",
       " [0.33333333, 0.33333333, 0.33333333],\n",
       " [-0.33333333, 0.33333333, 0.33333333],\n",
       " [-0.0, -0.33333333, 0.33333333],\n",
       " [0.33333333, -0.33333333, 0.33333333],\n",
       " [-0.33333333, -0.33333333, 0.33333333]]"
      ]
     },
     "execution_count": 9,
     "metadata": {},
     "output_type": "execute_result"
    }
   ],
   "source": [
    "vrun.actual_kpoints"
   ]
  },
  {
   "cell_type": "markdown",
   "metadata": {},
   "source": [
    "We can also look at the final energy"
   ]
  },
  {
   "cell_type": "code",
   "execution_count": 10,
   "metadata": {
    "scrolled": true
   },
   "outputs": [
    {
     "data": {
      "text/plain": [
       "-157.80974238"
      ]
     },
     "execution_count": 10,
     "metadata": {},
     "output_type": "execute_result"
    }
   ],
   "source": [
    "vrun.final_energy"
   ]
  },
  {
   "cell_type": "markdown",
   "metadata": {},
   "source": [
    "Or even the progress of VASP as it optimized the structure"
   ]
  },
  {
   "cell_type": "code",
   "execution_count": 11,
   "metadata": {},
   "outputs": [
    {
     "data": {
      "text/plain": [
       "4"
      ]
     },
     "execution_count": 11,
     "metadata": {},
     "output_type": "execute_result"
    }
   ],
   "source": [
    "len(vrun.ionic_steps)"
   ]
  },
  {
   "cell_type": "markdown",
   "metadata": {},
   "source": [
    "Each ionic step contains the energy, forces, stress, the structure"
   ]
  },
  {
   "cell_type": "code",
   "execution_count": 12,
   "metadata": {},
   "outputs": [
    {
     "data": {
      "text/plain": [
       "dict_keys(['e_fr_energy', 'e_wo_entrp', 'e_0_energy', 'forces', 'stress', 'electronic_steps', 'structure'])"
      ]
     },
     "execution_count": 12,
     "metadata": {},
     "output_type": "execute_result"
    }
   ],
   "source": [
    "vrun.ionic_steps[0].keys()"
   ]
  },
  {
   "cell_type": "markdown",
   "metadata": {},
   "source": [
    "## Lesson 2: Input Sets\n",
    "\n",
    "This lesson will focus on using `InputSets`. These are objects that provide default parameters to perform a specific kind of calcualtion. There are several `InputSets` that are default MP parameters, but it's also possible to define your own `InputSet` that lets you build new calculations using the parameters you want. \n",
    "\n",
    "Let's begin by taking the Al-Cr structure and making a simple input set to optimize this structure"
   ]
  },
  {
   "cell_type": "code",
   "execution_count": 13,
   "metadata": {},
   "outputs": [
    {
     "name": "stdout",
     "output_type": "stream",
     "text": [
      "ALGO = Fast\n",
      "EDIFF = 0.0013000000000000002\n",
      "ENCUT = 520\n",
      "IBRION = 2\n",
      "ICHARG = 1\n",
      "ISIF = 3\n",
      "ISMEAR = -5\n",
      "ISPIN = 2\n",
      "LORBIT = 11\n",
      "LREAL = Auto\n",
      "LWAVE = False\n",
      "MAGMOM = 16*0.6 10*5.0\n",
      "NELM = 100\n",
      "NSW = 99\n",
      "PREC = Accurate\n",
      "SIGMA = 0.05\n",
      "\n"
     ]
    },
    {
     "name": "stderr",
     "output_type": "stream",
     "text": [
      "/Users/shyamd/Dropbox/Codes/pymatgen/pymatgen/io/vasp/sets.py:589: BadInputSetWarning: Relaxation of likely metal with ISMEAR < 1 detected. Please see VASP recommendations on ISMEAR for metals.\n",
      "  warnings.warn(\n"
     ]
    }
   ],
   "source": [
    "from pymatgen.io.vasp.sets import MPRelaxSet\n",
    "\n",
    "relax_set = MPRelaxSet(structure=struc)\n",
    "print(relax_set.incar)"
   ]
  },
  {
   "cell_type": "markdown",
   "metadata": {},
   "source": [
    "We can see that the input set has pre-set values for a number of parameters. Some of these such as `ALGO` and `IBRION` just tell VASP what kind of calculation to perform, but other such as `EDIFF`, `ENCUT,` and `MAGMOM` are structure specific. The `MPRelaxSet`, which is designed to optimize a structure, has default MP parameters that make the resulting structure compataible with MP data. \n",
    "\n",
    "\n",
    "Many DFT calculations actually extend from a previous calculation. For instance, it's often desireable to perform a static calculation from a previous relaxation calculation. `InputSet`s for these types of calculations have `classmethod` that lets you automatically construct the next calculation input set from the output of a previous calculation."
   ]
  },
  {
   "cell_type": "code",
   "execution_count": 14,
   "metadata": {},
   "outputs": [
    {
     "name": "stdout",
     "output_type": "stream",
     "text": [
      "ALGO = Normal\n",
      "EDIFF = 0.0013\n",
      "ENCUT = 520.0\n",
      "IBRION = -1\n",
      "ICHARG = 0\n",
      "ISIF = 3\n",
      "ISMEAR = -5\n",
      "ISPIN = 2\n",
      "KPOINT_BSE = -1 0 0 0\n",
      "LAECHG = True\n",
      "LCHARG = True\n",
      "LORBIT = 11\n",
      "LREAL = Auto\n",
      "LVHAR = True\n",
      "LWAVE = False\n",
      "MAGMOM = 1*0.013 3*-0.012 3*-0.022 3*-0.01 2*-0.019 1*-0.018 2*-0.019 1*-0.018 1*0.487 1*-0.501 1*-0.505 1*-0.5 1*0.99 1*0.967 1*0.968 1*1.509 1*1.532 1*1.536\n",
      "NELM = 100\n",
      "NSW = 0\n",
      "PREC = accurate\n",
      "SIGMA = 0.05\n",
      "\n"
     ]
    }
   ],
   "source": [
    "from pymatgen.io.vasp.sets import MPStaticSet\n",
    "static_set = MPStaticSet.from_prev_calc(\"./VASP_Al16Cr10_example/\")\n",
    "\n",
    "print(static_set.incar)"
   ]
  },
  {
   "cell_type": "markdown",
   "metadata": {},
   "source": [
    "Notice how the `MAGMOM` list is very different for this calculation. `MAGMOM` is the set of magnetic moments that VASP is using both as its input and its writing in its output. Because the magnetic moment and the charge density are closely related, the new lowest energy configuration is actually not the nice Ferromagnetic configuration that was put into the initial relaxation calculation but a newer more complex configuration with much lower overall magnetic moment. \n",
    "\n",
    "\n",
    "Other inputs are a function of the InputSet is designed to do. The `MPRelaxSet` is designed to be a structure optimization that balances accuracy and computational cost. The `MPstaticSet` on the other hand is designed to increase the accuracy once an optimized structure is found to get a good charge density and DFT energy. The result is that these two sets produce different K-point densities as shown next."
   ]
  },
  {
   "cell_type": "code",
   "execution_count": 15,
   "metadata": {},
   "outputs": [
    {
     "data": {
      "text/plain": [
       "pymatgen v2020.7.16 with grid density = 1106 / number of atoms\n",
       "0\n",
       "Gamma\n",
       "3 3 3"
      ]
     },
     "execution_count": 15,
     "metadata": {},
     "output_type": "execute_result"
    }
   ],
   "source": [
    "relax_set.kpoints"
   ]
  },
  {
   "cell_type": "code",
   "execution_count": 16,
   "metadata": {},
   "outputs": [
    {
     "data": {
      "text/plain": [
       "Automatic kpoint scheme\n",
       "0\n",
       "Gamma\n",
       "4 4 4"
      ]
     },
     "execution_count": 16,
     "metadata": {},
     "output_type": "execute_result"
    }
   ],
   "source": [
    "static_set.kpoints"
   ]
  },
  {
   "cell_type": "markdown",
   "metadata": {},
   "source": [
    "### Storing Input Sets\n",
    "\n",
    "InputSet objects follow the `MSONable` pattern used heavily in pymatgen. This means that an InputSet with a structure or molecules can be converted to a dictionary and then stored in a database, which is very useful for running high throughput calculations or workflows. "
   ]
  },
  {
   "cell_type": "code",
   "execution_count": 17,
   "metadata": {},
   "outputs": [
    {
     "data": {
      "text/plain": [
       "{'@module': 'pymatgen.io.vasp.sets',\n",
       " '@class': 'MPRelaxSet',\n",
       " '@version': '2020.7.16',\n",
       " 'structure': {'@module': 'pymatgen.core.structure',\n",
       "  '@class': 'Structure',\n",
       "  'charge': None,\n",
       "  'lattice': {'matrix': [[7.4179879378990465, 0.0, -2.6553223002051487],\n",
       "    [-3.7708043655287886, 6.388081220096888, -2.6553213832427804],\n",
       "    [0.0, 0.0, 7.87891376]],\n",
       "   'a': 7.87891373,\n",
       "   'b': 7.878913559999999,\n",
       "   'c': 7.87891376,\n",
       "   'alpha': 109.69518779,\n",
       "   'beta': 109.69519443,\n",
       "   'gamma': 109.69518691999998,\n",
       "   'volume': 373.35579702428646},\n",
       "  'sites': [{'species': [{'element': 'Al', 'occu': 1.0}],\n",
       "    'abc': [0.696455, 0.696455, 0.696455],\n",
       "    'xyz': [2.540099234895128, 4.449011106142579, 1.7886845361650723],\n",
       "    'label': 'Al',\n",
       "    'properties': {}},\n",
       "   {'species': [{'element': 'Al', 'occu': 1.0}],\n",
       "    'abc': [0.646563, 0.002044, 0.646563],\n",
       "    'xyz': [4.78848901096868, 0.013057238013878038, 3.37195348811199],\n",
       "    'label': 'Al',\n",
       "    'properties': {}},\n",
       "   {'species': [{'element': 'Al', 'occu': 1.0}],\n",
       "    'abc': [0.646563, 0.646563, 0.002044],\n",
       "    'xyz': [2.3581339521024316, 4.130296957909504, -3.4175612121757033],\n",
       "    'label': 'Al',\n",
       "    'properties': {}},\n",
       "   {'species': [{'element': 'Al', 'occu': 1.0}],\n",
       "    'abc': [0.002044, 0.646563, 0.646563],\n",
       "    'xyz': [-2.4229002156443245, 4.130296957909504, 3.3719540791116587],\n",
       "    'label': 'Al',\n",
       "    'properties': {}},\n",
       "   {'species': [{'element': 'Al', 'occu': 1.0}],\n",
       "    'abc': [0.336523, 0.558569, 0.336523],\n",
       "    'xyz': [0.39006913117655095, 3.5681841390282987, 0.2746784591080065],\n",
       "    'label': 'Al',\n",
       "    'properties': {}},\n",
       "   {'species': [{'element': 'Al', 'occu': 1.0}],\n",
       "    'abc': [0.336523, 0.336523, 0.558569],\n",
       "    'xyz': [1.2273611573247563, 2.149736256430665, 2.613763235724492],\n",
       "    'label': 'Al',\n",
       "    'properties': {}},\n",
       "   {'species': [{'element': 'Al', 'occu': 1.0}],\n",
       "    'abc': [0.558569, 0.336523, 0.336523],\n",
       "    'xyz': [2.8744957069834873, 2.149736256430665, 0.2746782555001799],\n",
       "    'label': 'Al',\n",
       "    'properties': {}},\n",
       "   {'species': [{'element': 'Al', 'occu': 1.0}],\n",
       "    'abc': [0.734771, 0.383622, 0.734771],\n",
       "    'xyz': [4.0039589028051354, 2.4506084938160084, 2.8195038208225602],\n",
       "    'label': 'Al',\n",
       "    'properties': {}},\n",
       "   {'species': [{'element': 'Al', 'occu': 1.0}],\n",
       "    'abc': [0.734771, 0.734771, 0.383622],\n",
       "    'xyz': [2.6798447206540668, 4.69377682617181, -0.879582315491998],\n",
       "    'label': 'Al',\n",
       "    'properties': {}},\n",
       "   {'species': [{'element': 'Al', 'occu': 1.0}],\n",
       "    'abc': [0.383622, 0.734771, 0.734771],\n",
       "    'xyz': [0.07502567424875473, 4.69377682617181, 2.819504142812979],\n",
       "    'label': 'Al',\n",
       "    'properties': {}},\n",
       "   {'species': [{'element': 'Al', 'occu': 1.0}],\n",
       "    'abc': [0.280797, 0.666745, 0.038053],\n",
       "    'xyz': [-0.43121619769625363, 4.259221213093499, -2.2162124862916333],\n",
       "    'label': 'Al',\n",
       "    'properties': {}},\n",
       "   {'species': [{'element': 'Al', 'occu': 1.0}],\n",
       "    'abc': [0.038053, 0.280797, 0.666745],\n",
       "    'xyz': [-0.776553858426515, 1.793754042359546, 4.40657709697107],\n",
       "    'label': 'Al',\n",
       "    'properties': {}},\n",
       "   {'species': [{'element': 'Al', 'occu': 1.0}],\n",
       "    'abc': [0.666745, 0.038053, 0.280797],\n",
       "    'xyz': [4.8024159491330325, 0.24308565466834686, 0.34090953541990054],\n",
       "    'label': 'Al',\n",
       "    'properties': {}},\n",
       "   {'species': [{'element': 'Al', 'occu': 1.0}],\n",
       "    'abc': [0.666745, 0.280797, 0.038053],\n",
       "    'xyz': [3.8870758142271122, 1.793754042359546, -2.216212840191425],\n",
       "    'label': 'Al',\n",
       "    'properties': {}},\n",
       "   {'species': [{'element': 'Al', 'occu': 1.0}],\n",
       "    'abc': [0.038053, 0.666745, 0.280797],\n",
       "    'xyz': [-2.2318882616936198, 4.259221213093499, 0.34091011190680565],\n",
       "    'label': 'Al',\n",
       "    'properties': {}},\n",
       "   {'species': [{'element': 'Al', 'occu': 1.0}],\n",
       "    'abc': [0.280797, 0.038053, 0.666745],\n",
       "    'xyz': [1.9394583404767716, 0.24308565466834686, 4.406576874383957],\n",
       "    'label': 'Al',\n",
       "    'properties': {}},\n",
       "   {'species': [{'element': 'Cr', 'occu': 1.0}],\n",
       "    'abc': [0.151124, 0.151124, 0.151124],\n",
       "    'xyz': [0.5511769701908827, 0.9653923863059222, 0.38812724704885504],\n",
       "    'label': 'Cr',\n",
       "    'properties': {}},\n",
       "   {'species': [{'element': 'Cr', 'occu': 1.0}],\n",
       "    'abc': [0.015343, 0.797266, 0.015343],\n",
       "    'xyz': [-2.89251992435649, 5.092999962021766, -2.036851894164806],\n",
       "    'label': 'Cr',\n",
       "    'properties': {}},\n",
       "   {'species': [{'element': 'Cr', 'occu': 1.0}],\n",
       "    'abc': [0.015343, 0.015343, 0.797266],\n",
       "    'xyz': [0.055958737550876866, 0.09801233015994655, 6.200108851745018],\n",
       "    'label': 'Cr',\n",
       "    'properties': {}},\n",
       "   {'species': [{'element': 'Cr', 'occu': 1.0}],\n",
       "    'abc': [0.797266, 0.015343, 0.015343],\n",
       "    'xyz': [5.856254119916713, 0.09801233015994655, -2.036852611158772],\n",
       "    'label': 'Cr',\n",
       "    'properties': {}},\n",
       "   {'species': [{'element': 'Cr', 'occu': 1.0}],\n",
       "    'abc': [0.987828, 0.33369, 0.987828],\n",
       "    'xyz': [6.069416479985638, 2.1316388223341303, 4.273955712171945],\n",
       "    'label': 'Cr',\n",
       "    'properties': {}},\n",
       "   {'species': [{'element': 'Cr', 'occu': 1.0}],\n",
       "    'abc': [0.987828, 0.987828, 0.33369],\n",
       "    'xyz': [3.602790053927367, 6.310325495485869, -2.6168877959586014],\n",
       "    'label': 'Cr',\n",
       "    'properties': {}},\n",
       "   {'species': [{'element': 'Cr', 'occu': 1.0}],\n",
       "    'abc': [0.33369, 0.987828, 0.987828],\n",
       "    'xyz': [-1.2495977397940399, 6.310325495485869, 4.273956311991874],\n",
       "    'label': 'Cr',\n",
       "    'properties': {}},\n",
       "   {'species': [{'element': 'Cr', 'occu': 1.0}],\n",
       "    'abc': [0.365023, 0.015932, 0.365023],\n",
       "    'xyz': [2.647659755904119, 0.10177490999858363, 1.8644264451508719],\n",
       "    'label': 'Cr',\n",
       "    'properties': {}},\n",
       "   {'species': [{'element': 'Cr', 'occu': 1.0}],\n",
       "    'abc': [0.365023, 0.365023, 0.015932],\n",
       "    'xyz': [1.3313058891373089, 2.331796571203426, -1.8129802352388933],\n",
       "    'label': 'Cr',\n",
       "    'properties': {}},\n",
       "   {'species': [{'element': 'Cr', 'occu': 1.0}],\n",
       "    'abc': [0.015932, 0.365023, 0.365023],\n",
       "    'xyz': [-1.2582469380918073, 2.331796571203426, 1.864426765254182],\n",
       "    'label': 'Cr',\n",
       "    'properties': {}}]}}"
      ]
     },
     "execution_count": 17,
     "metadata": {},
     "output_type": "execute_result"
    }
   ],
   "source": [
    "relax_set.as_dict()"
   ]
  },
  {
   "cell_type": "markdown",
   "metadata": {},
   "source": [
    "## Lesson 3: Automating DFT with Atomate\n",
    "\n",
    "The final section of this lesson focuses on automating DFT using our `atomate` code. `atomate` is a set of recipes for computing properties for both molecules and structures. The workflows in `atomate` run on `fireworks`, our workflow management software. `fireworks` stores workflow information and calculation summaries in MongoDB. Using this infrastructure MP routinely manages 10,000 simultaneous calculations on supercomputers such as Cori at NERSC. \n",
    "\n",
    "Let's begin by importing a basic silicon structure"
   ]
  },
  {
   "cell_type": "code",
   "execution_count": 18,
   "metadata": {},
   "outputs": [],
   "source": [
    "from pymatgen import Structure\n",
    "si = Structure.from_file(\"Si.CIF\")"
   ]
  },
  {
   "cell_type": "markdown",
   "metadata": {},
   "source": [
    "Now, we'll make a workflow to optimize our structure"
   ]
  },
  {
   "cell_type": "code",
   "execution_count": 19,
   "metadata": {},
   "outputs": [],
   "source": [
    "from atomate.vasp.workflows import wf_structure_optimization"
   ]
  },
  {
   "cell_type": "code",
   "execution_count": 20,
   "metadata": {
    "scrolled": true
   },
   "outputs": [
    {
     "name": "stdout",
     "output_type": "stream",
     "text": [
      "Workflow object: (fw_ids: odict_keys([-1]) , name: Si)\n"
     ]
    }
   ],
   "source": [
    "wf = wf_structure_optimization(structure=si)\n",
    "print(wf)"
   ]
  },
  {
   "cell_type": "markdown",
   "metadata": {},
   "source": [
    "Fireworks doesn't tell us much about the workflow, but we can tell there is only one firework. A firework is a single job for a supercomputer, involving usually just a few DFT calculations. Let's use a more complex example to illustrate how easy this is. Let's compute the full bandstructure for Silicon"
   ]
  },
  {
   "cell_type": "code",
   "execution_count": 21,
   "metadata": {},
   "outputs": [
    {
     "name": "stdout",
     "output_type": "stream",
     "text": [
      "Workflow object: (fw_ids: odict_keys([-2, -3, -4, -5]) , name: Si)\n"
     ]
    }
   ],
   "source": [
    "from atomate.vasp.workflows import wf_bandstructure\n",
    "\n",
    "wf = wf_bandstructure(structure=si)\n",
    "print(wf)"
   ]
  },
  {
   "cell_type": "markdown",
   "metadata": {},
   "source": [
    "Now we can see there are a low more fireworks in this workflow, but its still hard to tell what is going on. Let's start by looking at the whole workflow as a graph.\n",
    "\n",
    "We'll use a function built for this workshop to plot what the workflow looks like."
   ]
  },
  {
   "cell_type": "code",
   "execution_count": 22,
   "metadata": {},
   "outputs": [],
   "source": [
    "from mp_workshop.atomate import wf_to_graph"
   ]
  },
  {
   "cell_type": "code",
   "execution_count": 23,
   "metadata": {},
   "outputs": [
    {
     "data": {
      "image/svg+xml": [
       "<?xml version=\"1.0\" encoding=\"UTF-8\" standalone=\"no\"?>\n",
       "<!DOCTYPE svg PUBLIC \"-//W3C//DTD SVG 1.1//EN\"\n",
       " \"http://www.w3.org/Graphics/SVG/1.1/DTD/svg11.dtd\">\n",
       "<!-- Generated by graphviz version 2.40.1 (20161225.0304)\n",
       " -->\n",
       "<!-- Title: %3 Pages: 1 -->\n",
       "<svg width=\"338pt\" height=\"98pt\"\n",
       " viewBox=\"0.00 0.00 338.00 98.00\" xmlns=\"http://www.w3.org/2000/svg\" xmlns:xlink=\"http://www.w3.org/1999/xlink\">\n",
       "<g id=\"graph0\" class=\"graph\" transform=\"scale(1 1) rotate(0) translate(4 94)\">\n",
       "<title>%3</title>\n",
       "<polygon fill=\"#ffffff\" stroke=\"transparent\" points=\"-4,4 -4,-94 334,-94 334,4 -4,4\"/>\n",
       "<!-- &#45;2 -->\n",
       "<g id=\"node1\" class=\"node\">\n",
       "<title>&#45;2</title>\n",
       "<polygon fill=\"none\" stroke=\"#1f62a2\" points=\"121,-63 0,-63 0,-27 121,-27 121,-63\"/>\n",
       "<text text-anchor=\"middle\" x=\"60.5\" y=\"-41.3\" font-family=\"Times,serif\" font-size=\"14.00\" fill=\"#000000\">Si&#45;structure optimization</text>\n",
       "</g>\n",
       "<!-- &#45;3 -->\n",
       "<g id=\"node2\" class=\"node\">\n",
       "<title>&#45;3</title>\n",
       "<polygon fill=\"none\" stroke=\"#1f62a2\" points=\"211,-63 157,-63 157,-27 211,-27 211,-63\"/>\n",
       "<text text-anchor=\"middle\" x=\"184\" y=\"-41.3\" font-family=\"Times,serif\" font-size=\"14.00\" fill=\"#000000\">Si&#45;static</text>\n",
       "</g>\n",
       "<!-- &#45;2&#45;&gt;&#45;3 -->\n",
       "<g id=\"edge1\" class=\"edge\">\n",
       "<title>&#45;2&#45;&gt;&#45;3</title>\n",
       "<path fill=\"none\" stroke=\"#000000\" d=\"M121.1646,-45C129.902,-45 138.6685,-45 146.7639,-45\"/>\n",
       "<polygon fill=\"#000000\" stroke=\"#000000\" points=\"146.9607,-48.5001 156.9606,-45 146.9606,-41.5001 146.9607,-48.5001\"/>\n",
       "</g>\n",
       "<!-- &#45;4 -->\n",
       "<g id=\"node3\" class=\"node\">\n",
       "<title>&#45;4</title>\n",
       "<polygon fill=\"none\" stroke=\"#1f62a2\" points=\"330,-90 247,-90 247,-54 330,-54 330,-90\"/>\n",
       "<text text-anchor=\"middle\" x=\"288.5\" y=\"-68.3\" font-family=\"Times,serif\" font-size=\"14.00\" fill=\"#000000\">Si&#45;nscf uniform</text>\n",
       "</g>\n",
       "<!-- &#45;3&#45;&gt;&#45;4 -->\n",
       "<g id=\"edge2\" class=\"edge\">\n",
       "<title>&#45;3&#45;&gt;&#45;4</title>\n",
       "<path fill=\"none\" stroke=\"#000000\" d=\"M211.1833,-52.0234C219.1773,-54.0889 228.1972,-56.4194 237.1803,-58.7404\"/>\n",
       "<polygon fill=\"#000000\" stroke=\"#000000\" points=\"236.3057,-62.1293 246.8634,-61.2422 238.0569,-55.3518 236.3057,-62.1293\"/>\n",
       "</g>\n",
       "<!-- &#45;5 -->\n",
       "<g id=\"node4\" class=\"node\">\n",
       "<title>&#45;5</title>\n",
       "<polygon fill=\"none\" stroke=\"#1f62a2\" points=\"321,-36 256,-36 256,0 321,0 321,-36\"/>\n",
       "<text text-anchor=\"middle\" x=\"288.5\" y=\"-14.3\" font-family=\"Times,serif\" font-size=\"14.00\" fill=\"#000000\">Si&#45;nscf line</text>\n",
       "</g>\n",
       "<!-- &#45;3&#45;&gt;&#45;5 -->\n",
       "<g id=\"edge3\" class=\"edge\">\n",
       "<title>&#45;3&#45;&gt;&#45;5</title>\n",
       "<path fill=\"none\" stroke=\"#000000\" d=\"M211.1833,-37.9766C221.8609,-35.2178 234.3687,-31.9861 246.1746,-28.9357\"/>\n",
       "<polygon fill=\"#000000\" stroke=\"#000000\" points=\"247.0645,-32.3208 255.871,-26.4305 245.3134,-25.5434 247.0645,-32.3208\"/>\n",
       "</g>\n",
       "</g>\n",
       "</svg>\n"
      ],
      "text/plain": [
       "<graphviz.dot.Digraph at 0x7fc9b0a38100>"
      ]
     },
     "execution_count": 23,
     "metadata": {},
     "output_type": "execute_result"
    }
   ],
   "source": [
    "wf_to_graph(wf)"
   ]
  },
  {
   "cell_type": "markdown",
   "metadata": {},
   "source": [
    "This is clearly a more complex workflow with an intermediate step to compute the full bandstructore of Si both along the special high-symmetry lines in Brillouin zone and with a uniform grid.\n",
    "\n",
    "\n",
    "To make this workshop more usefull, we've provided a set of fake VASP input and outputs and a helper function that will let atomate \"run\" these calculations. In reality, these take a lot more CPU time and a License to VASP, which we can't provide in this workshop. Let's use that fake VASP utility to \"run\" this workflow."
   ]
  },
  {
   "cell_type": "code",
   "execution_count": 24,
   "metadata": {},
   "outputs": [],
   "source": [
    "from mp_workshop.atomate import use_fake_vasp_workshop"
   ]
  },
  {
   "cell_type": "markdown",
   "metadata": {},
   "source": [
    "Now lets run the above workflow. First we have to add this to our LaunchPad. Fireworks hides the database with an object called a LaunchPad. This allows you to submit and query workflows from anywhere you have database access. We need to get ourselves a LaunchPad object so we can submit our workflow"
   ]
  },
  {
   "cell_type": "code",
   "execution_count": 25,
   "metadata": {},
   "outputs": [],
   "source": [
    "from fireworks import LaunchPad"
   ]
  },
  {
   "cell_type": "code",
   "execution_count": 26,
   "metadata": {},
   "outputs": [],
   "source": [
    "lp = LaunchPad.auto_load()"
   ]
  },
  {
   "cell_type": "markdown",
   "metadata": {},
   "source": [
    "For this one time, we have to initialize the database. In everyday use, we'll only need to do this once, upon database creation."
   ]
  },
  {
   "cell_type": "code",
   "execution_count": 27,
   "metadata": {},
   "outputs": [
    {
     "name": "stdout",
     "output_type": "stream",
     "text": [
      "2020-07-29 16:22:52,820 INFO Performing db tune-up\n",
      "2020-07-29 16:22:52,917 INFO LaunchPad was RESET.\n"
     ]
    }
   ],
   "source": [
    "lp.reset(password=None,require_password=False)"
   ]
  },
  {
   "cell_type": "code",
   "execution_count": 28,
   "metadata": {},
   "outputs": [
    {
     "name": "stdout",
     "output_type": "stream",
     "text": [
      "2020-07-29 16:22:52,930 INFO Added a workflow. id_map: {-5: 1, -4: 2, -3: 3, -2: 4}\n"
     ]
    },
    {
     "data": {
      "text/plain": [
       "{-5: 1, -4: 2, -3: 3, -2: 4}"
      ]
     },
     "execution_count": 28,
     "metadata": {},
     "output_type": "execute_result"
    }
   ],
   "source": [
    "wf = use_fake_vasp_workshop(wf)\n",
    "lp.add_wf(wf)"
   ]
  },
  {
   "cell_type": "markdown",
   "metadata": {},
   "source": [
    "Now let's see what the status of our workflow is in the LaunchPad"
   ]
  },
  {
   "cell_type": "code",
   "execution_count": 29,
   "metadata": {},
   "outputs": [
    {
     "data": {
      "text/plain": [
       "{'state': 'READY',\n",
       " 'name': 'Si',\n",
       " 'created_on': datetime.datetime(2020, 7, 29, 23, 22, 52, 542000),\n",
       " 'updated_on': datetime.datetime(2020, 7, 29, 23, 22, 52, 542000),\n",
       " 'states': OrderedDict([('Si-nscf line--1', 'WAITING'),\n",
       "              ('Si-nscf uniform--2', 'WAITING'),\n",
       "              ('Si-static--3', 'WAITING'),\n",
       "              ('Si-structure optimization--4', 'READY')]),\n",
       " 'launch_dirs': OrderedDict([('Si-nscf line--1', []),\n",
       "              ('Si-nscf uniform--2', []),\n",
       "              ('Si-static--3', []),\n",
       "              ('Si-structure optimization--4', [])])}"
      ]
     },
     "execution_count": 29,
     "metadata": {},
     "output_type": "execute_result"
    }
   ],
   "source": [
    "lp.get_wf_summary_dict(1)"
   ]
  },
  {
   "cell_type": "markdown",
   "metadata": {},
   "source": [
    "Normally we don't run these calculation in a notebook, but rather on a supercomputer. We use a command called `qlaunch` to automatically submit to the supercomputer to run. We can also run them locally using the command `rlaunch`. Let's check how we'd use it."
   ]
  },
  {
   "cell_type": "code",
   "execution_count": 30,
   "metadata": {
    "scrolled": true
   },
   "outputs": [
    {
     "name": "stdout",
     "output_type": "stream",
     "text": [
      "FW Echo Test: MP Workshop\n",
      "usage: rlaunch [-h] [-l LAUNCHPAD_FILE] [-w FWORKER_FILE] [-c CONFIG_DIR]\n",
      "               [--loglvl LOGLVL] [-s]\n",
      "               {singleshot,rapidfire,multi} ...\n",
      "\n",
      "This program launches one or more Rockets. A Rocket retrieves a job from the\n",
      "central database and runs it. The \"single-shot\" option launches a single\n",
      "Rocket, whereas the \"rapidfire\" option loops until all FireWorks are\n",
      "completed.\n",
      "\n",
      "positional arguments:\n",
      "  {singleshot,rapidfire,multi}\n",
      "                        command\n",
      "    singleshot          launch a single Rocket\n",
      "    rapidfire           launch multiple Rockets (loop until all FireWorks\n",
      "                        complete)\n",
      "    multi               launches multiple Rockets simultaneously\n",
      "\n",
      "optional arguments:\n",
      "  -h, --help            show this help message and exit\n",
      "  -l LAUNCHPAD_FILE, --launchpad_file LAUNCHPAD_FILE\n",
      "                        path to launchpad file\n",
      "  -w FWORKER_FILE, --fworker_file FWORKER_FILE\n",
      "                        path to fworker file\n",
      "  -c CONFIG_DIR, --config_dir CONFIG_DIR\n",
      "                        path to a directory containing the config file (used\n",
      "                        if -l, -w unspecified)\n",
      "  --loglvl LOGLVL       level to print log messages\n",
      "  -s, --silencer        shortcut to mute log messages\n"
     ]
    }
   ],
   "source": [
    "!rlaunch --help"
   ]
  },
  {
   "cell_type": "markdown",
   "metadata": {},
   "source": [
    "Let's run one job in rapidfire mode"
   ]
  },
  {
   "cell_type": "code",
   "execution_count": 31,
   "metadata": {},
   "outputs": [
    {
     "name": "stdout",
     "output_type": "stream",
     "text": [
      "FW Echo Test: MP Workshop\n",
      "2020-07-29 16:22:53,942 INFO Hostname/IP lookup (this will take a few seconds)\n",
      "2020-07-29 16:22:55,579 INFO Created new dir /Users/shyamd/Dropbox/Codes/workshop/workshop/lessons/05_automated_dft/launcher_2020-07-29-23-22-55-578983\n",
      "2020-07-29 16:22:55,579 INFO Launching Rocket\n",
      "2020-07-29 16:22:55,596 INFO RUNNING fw_id: 4 in directory: /Users/shyamd/Dropbox/Codes/workshop/workshop/lessons/05_automated_dft/launcher_2020-07-29-23-22-55-578983\n",
      "2020-07-29 16:22:55,602 INFO Task started: FileWriteTask.\n",
      "2020-07-29 16:22:55,603 INFO Task completed: FileWriteTask \n",
      "2020-07-29 16:22:55,604 INFO Task started: {{atomate.vasp.firetasks.write_inputs.WriteVaspFromIOSet}}.\n",
      "2020-07-29 16:22:55,639 INFO Task completed: {{atomate.vasp.firetasks.write_inputs.WriteVaspFromIOSet}} \n",
      "2020-07-29 16:22:55,640 INFO Task started: {{atomate.vasp.firetasks.run_calc.RunVaspFake}}.\n",
      "2020-07-29 16:22:55,641 INFO atomate.vasp.firetasks.run_calc RunVaspFake: verified inputs successfully\n",
      "2020-07-29 16:22:55,662 INFO atomate.vasp.firetasks.run_calc RunVaspFake: ran fake VASP, generated outputs\n",
      "2020-07-29 16:22:55,662 INFO Task completed: {{atomate.vasp.firetasks.run_calc.RunVaspFake}} \n",
      "2020-07-29 16:22:55,665 INFO Task started: {{atomate.common.firetasks.glue_tasks.PassCalcLocs}}.\n",
      "2020-07-29 16:22:55,665 INFO Task completed: {{atomate.common.firetasks.glue_tasks.PassCalcLocs}} \n",
      "2020-07-29 16:22:55,668 INFO Task started: {{atomate.vasp.firetasks.parse_outputs.VaspToDb}}.\n",
      "2020-07-29 16:22:55,668 INFO atomate.vasp.firetasks.parse_outputs PARSING DIRECTORY: /Users/shyamd/Dropbox/Codes/workshop/workshop/lessons/05_automated_dft/launcher_2020-07-29-23-22-55-578983\n",
      "2020-07-29 16:22:55,668 INFO atomate.vasp.drones Getting task doc for base dir :/Users/shyamd/Dropbox/Codes/workshop/workshop/lessons/05_automated_dft/launcher_2020-07-29-23-22-55-578983\n",
      "/Users/shyamd/Dropbox/Codes/pymatgen/pymatgen/io/vasp/inputs.py:1853: UnknownPotcarWarning: POTCAR with symbol Si has metadata that does not match                          any VASP POTCAR known to pymatgen. The data in this                          POTCAR is known to match the following functionals:                          ['PBE']\n",
      "  warnings.warn(\"POTCAR with symbol {} has metadata that does not match\\\n",
      "2020-07-29 16:22:56,460 INFO atomate.vasp.drones Post-processing dir:/Users/shyamd/Dropbox/Codes/workshop/workshop/lessons/05_automated_dft/launcher_2020-07-29-23-22-55-578983\n",
      "2020-07-29 16:22:56,460 WARNING atomate.vasp.drones Transformations file does not exist.\n",
      "2020-07-29 16:22:56,463 INFO atomate.vasp.drones Post-processed /Users/shyamd/Dropbox/Codes/workshop/workshop/lessons/05_automated_dft/launcher_2020-07-29-23-22-55-578983\n",
      "2020-07-29 16:22:56,548 INFO atomate.utils.database Inserting shyams-mbp.dhcp.lbnl.us:/Users/shyamd/Dropbox/Codes/workshop/workshop/lessons/05_automated_dft/launcher_2020-07-29-23-22-55-578983 with taskid = 21\n",
      "2020-07-29 16:22:56,588 INFO atomate.vasp.firetasks.parse_outputs Finished parsing with task_id: 21\n",
      "2020-07-29 16:22:56,589 INFO Task completed: {{atomate.vasp.firetasks.parse_outputs.VaspToDb}} \n",
      "2020-07-29 16:22:56,609 INFO Rocket finished\n"
     ]
    }
   ],
   "source": [
    "!rlaunch rapidfire --nlaunches 1"
   ]
  },
  {
   "cell_type": "markdown",
   "metadata": {},
   "source": [
    "Try running with `nlaunches` unset and see what happens"
   ]
  },
  {
   "cell_type": "code",
   "execution_count": 32,
   "metadata": {},
   "outputs": [
    {
     "name": "stdout",
     "output_type": "stream",
     "text": [
      "FW Echo Test: MP Workshop\n",
      "2020-07-29 16:22:57,855 INFO Hostname/IP lookup (this will take a few seconds)\n",
      "2020-07-29 16:22:59,793 INFO Created new dir /Users/shyamd/Dropbox/Codes/workshop/workshop/lessons/05_automated_dft/launcher_2020-07-29-23-22-59-792907\n",
      "2020-07-29 16:22:59,793 INFO Launching Rocket\n",
      "2020-07-29 16:22:59,804 INFO RUNNING fw_id: 3 in directory: /Users/shyamd/Dropbox/Codes/workshop/workshop/lessons/05_automated_dft/launcher_2020-07-29-23-22-59-792907\n",
      "2020-07-29 16:22:59,808 INFO Task started: FileWriteTask.\n",
      "2020-07-29 16:22:59,808 INFO Task completed: FileWriteTask \n",
      "2020-07-29 16:22:59,810 INFO Task started: {{atomate.vasp.firetasks.glue_tasks.CopyVaspOutputs}}.\n",
      "2020-07-29 16:22:59,820 INFO Task completed: {{atomate.vasp.firetasks.glue_tasks.CopyVaspOutputs}} \n",
      "2020-07-29 16:22:59,822 INFO Task started: {{atomate.vasp.firetasks.write_inputs.WriteVaspStaticFromPrev}}.\n",
      "/Users/shyamd/Dropbox/Codes/pymatgen/pymatgen/io/vasp/inputs.py:1853: UnknownPotcarWarning: POTCAR with symbol Si has metadata that does not match                          any VASP POTCAR known to pymatgen. The data in this                          POTCAR is known to match the following functionals:                          ['PBE']\n",
      "  warnings.warn(\"POTCAR with symbol {} has metadata that does not match\\\n",
      "2020-07-29 16:23:00,078 INFO Task completed: {{atomate.vasp.firetasks.write_inputs.WriteVaspStaticFromPrev}} \n",
      "2020-07-29 16:23:00,079 INFO Task started: {{atomate.vasp.firetasks.run_calc.RunVaspFake}}.\n",
      "2020-07-29 16:23:00,080 INFO atomate.vasp.firetasks.run_calc RunVaspFake: verified inputs successfully\n",
      "2020-07-29 16:23:00,098 INFO atomate.vasp.firetasks.run_calc RunVaspFake: ran fake VASP, generated outputs\n",
      "2020-07-29 16:23:00,098 INFO Task completed: {{atomate.vasp.firetasks.run_calc.RunVaspFake}} \n",
      "2020-07-29 16:23:00,100 INFO Task started: {{atomate.common.firetasks.glue_tasks.PassCalcLocs}}.\n",
      "2020-07-29 16:23:00,101 INFO Task completed: {{atomate.common.firetasks.glue_tasks.PassCalcLocs}} \n",
      "2020-07-29 16:23:00,103 INFO Task started: {{atomate.vasp.firetasks.parse_outputs.VaspToDb}}.\n",
      "2020-07-29 16:23:00,103 INFO atomate.vasp.firetasks.parse_outputs PARSING DIRECTORY: /Users/shyamd/Dropbox/Codes/workshop/workshop/lessons/05_automated_dft/launcher_2020-07-29-23-22-59-792907\n",
      "2020-07-29 16:23:00,103 INFO atomate.vasp.drones Getting task doc for base dir :/Users/shyamd/Dropbox/Codes/workshop/workshop/lessons/05_automated_dft/launcher_2020-07-29-23-22-59-792907\n",
      "2020-07-29 16:23:01,640 INFO atomate.vasp.drones Post-processing dir:/Users/shyamd/Dropbox/Codes/workshop/workshop/lessons/05_automated_dft/launcher_2020-07-29-23-22-59-792907\n",
      "2020-07-29 16:23:01,641 WARNING atomate.vasp.drones Transformations file does not exist.\n",
      "2020-07-29 16:23:01,784 INFO atomate.vasp.drones Post-processed /Users/shyamd/Dropbox/Codes/workshop/workshop/lessons/05_automated_dft/launcher_2020-07-29-23-22-59-792907\n",
      "2020-07-29 16:23:02,537 INFO atomate.utils.database Inserting shyams-mbp.dhcp.lbnl.us:/Users/shyamd/Dropbox/Codes/workshop/workshop/lessons/05_automated_dft/launcher_2020-07-29-23-22-59-792907 with taskid = 22\n",
      "2020-07-29 16:23:02,834 INFO atomate.vasp.firetasks.parse_outputs Finished parsing with task_id: 22\n",
      "2020-07-29 16:23:02,834 INFO Task completed: {{atomate.vasp.firetasks.parse_outputs.VaspToDb}} \n",
      "2020-07-29 16:23:02,849 INFO Rocket finished\n",
      "2020-07-29 16:23:02,852 INFO Created new dir /Users/shyamd/Dropbox/Codes/workshop/workshop/lessons/05_automated_dft/launcher_2020-07-29-23-23-02-851888\n",
      "2020-07-29 16:23:02,852 INFO Launching Rocket\n",
      "2020-07-29 16:23:02,862 INFO RUNNING fw_id: 1 in directory: /Users/shyamd/Dropbox/Codes/workshop/workshop/lessons/05_automated_dft/launcher_2020-07-29-23-23-02-851888\n",
      "2020-07-29 16:23:02,865 INFO Task started: FileWriteTask.\n",
      "2020-07-29 16:23:02,865 INFO Task completed: FileWriteTask \n",
      "2020-07-29 16:23:02,866 INFO Task started: {{atomate.vasp.firetasks.glue_tasks.CopyVaspOutputs}}.\n",
      "2020-07-29 16:23:02,920 INFO Task completed: {{atomate.vasp.firetasks.glue_tasks.CopyVaspOutputs}} \n",
      "2020-07-29 16:23:02,923 INFO Task started: {{atomate.vasp.firetasks.write_inputs.WriteVaspNSCFFromPrev}}.\n",
      "/Users/shyamd/Dropbox/Codes/pymatgen/pymatgen/symmetry/kpath.py:161: UserWarning: 'magmom' entry found in site properties but will be ignored                   for the Setyawan and Curtarolo convention.\n",
      "  warn(\n",
      "/Users/shyamd/Dropbox/Codes/pymatgen/pymatgen/symmetry/kpath.py:177: UserWarning: The input structure does not match the expected standard primitive! The path can be incorrect. Use at your own risk.\n",
      "  warn(\n",
      "2020-07-29 16:23:03,365 INFO Task completed: {{atomate.vasp.firetasks.write_inputs.WriteVaspNSCFFromPrev}} \n",
      "2020-07-29 16:23:03,367 INFO Task started: {{atomate.vasp.firetasks.run_calc.RunVaspFake}}.\n",
      "2020-07-29 16:23:03,367 INFO atomate.vasp.firetasks.run_calc RunVaspFake: verified inputs successfully\n",
      "2020-07-29 16:23:03,381 INFO atomate.vasp.firetasks.run_calc RunVaspFake: ran fake VASP, generated outputs\n",
      "2020-07-29 16:23:03,382 INFO Task completed: {{atomate.vasp.firetasks.run_calc.RunVaspFake}} \n",
      "2020-07-29 16:23:03,384 INFO Task started: {{atomate.common.firetasks.glue_tasks.PassCalcLocs}}.\n",
      "2020-07-29 16:23:03,384 INFO Task completed: {{atomate.common.firetasks.glue_tasks.PassCalcLocs}} \n",
      "2020-07-29 16:23:03,386 INFO Task started: {{atomate.vasp.firetasks.parse_outputs.VaspToDb}}.\n",
      "2020-07-29 16:23:03,386 INFO atomate.vasp.firetasks.parse_outputs PARSING DIRECTORY: /Users/shyamd/Dropbox/Codes/workshop/workshop/lessons/05_automated_dft/launcher_2020-07-29-23-23-02-851888\n",
      "2020-07-29 16:23:03,386 INFO atomate.vasp.drones Getting task doc for base dir :/Users/shyamd/Dropbox/Codes/workshop/workshop/lessons/05_automated_dft/launcher_2020-07-29-23-23-02-851888\n",
      "2020-07-29 16:23:04,233 INFO atomate.vasp.drones Post-processing dir:/Users/shyamd/Dropbox/Codes/workshop/workshop/lessons/05_automated_dft/launcher_2020-07-29-23-23-02-851888\n",
      "2020-07-29 16:23:04,234 WARNING atomate.vasp.drones Transformations file does not exist.\n",
      "2020-07-29 16:23:04,362 INFO atomate.vasp.drones Post-processed /Users/shyamd/Dropbox/Codes/workshop/workshop/lessons/05_automated_dft/launcher_2020-07-29-23-23-02-851888\n",
      "2020-07-29 16:23:04,629 INFO atomate.utils.database Inserting shyams-mbp.dhcp.lbnl.us:/Users/shyamd/Dropbox/Codes/workshop/workshop/lessons/05_automated_dft/launcher_2020-07-29-23-23-02-851888 with taskid = 23\n",
      "2020-07-29 16:23:04,754 INFO atomate.vasp.firetasks.parse_outputs Finished parsing with task_id: 23\n",
      "2020-07-29 16:23:04,755 INFO Task completed: {{atomate.vasp.firetasks.parse_outputs.VaspToDb}} \n",
      "2020-07-29 16:23:04,766 INFO Rocket finished\n",
      "2020-07-29 16:23:04,769 INFO Created new dir /Users/shyamd/Dropbox/Codes/workshop/workshop/lessons/05_automated_dft/launcher_2020-07-29-23-23-04-769444\n",
      "2020-07-29 16:23:04,769 INFO Launching Rocket\n",
      "2020-07-29 16:23:04,782 INFO RUNNING fw_id: 2 in directory: /Users/shyamd/Dropbox/Codes/workshop/workshop/lessons/05_automated_dft/launcher_2020-07-29-23-23-04-769444\n",
      "2020-07-29 16:23:04,785 INFO Task started: FileWriteTask.\n",
      "2020-07-29 16:23:04,786 INFO Task completed: FileWriteTask \n",
      "2020-07-29 16:23:04,787 INFO Task started: {{atomate.vasp.firetasks.glue_tasks.CopyVaspOutputs}}.\n",
      "2020-07-29 16:23:04,858 INFO Task completed: {{atomate.vasp.firetasks.glue_tasks.CopyVaspOutputs}} \n",
      "2020-07-29 16:23:04,860 INFO Task started: {{atomate.vasp.firetasks.write_inputs.WriteVaspNSCFFromPrev}}.\n",
      "2020-07-29 16:23:05,121 INFO Task completed: {{atomate.vasp.firetasks.write_inputs.WriteVaspNSCFFromPrev}} \n",
      "2020-07-29 16:23:05,123 INFO Task started: {{atomate.vasp.firetasks.run_calc.RunVaspFake}}.\n",
      "2020-07-29 16:23:05,123 INFO atomate.vasp.firetasks.run_calc RunVaspFake: verified inputs successfully\n",
      "2020-07-29 16:23:05,138 INFO atomate.vasp.firetasks.run_calc RunVaspFake: ran fake VASP, generated outputs\n",
      "2020-07-29 16:23:05,138 INFO Task completed: {{atomate.vasp.firetasks.run_calc.RunVaspFake}} \n",
      "2020-07-29 16:23:05,140 INFO Task started: {{atomate.common.firetasks.glue_tasks.PassCalcLocs}}.\n",
      "2020-07-29 16:23:05,140 INFO Task completed: {{atomate.common.firetasks.glue_tasks.PassCalcLocs}} \n",
      "2020-07-29 16:23:05,142 INFO Task started: {{atomate.vasp.firetasks.parse_outputs.VaspToDb}}.\n"
     ]
    },
    {
     "name": "stdout",
     "output_type": "stream",
     "text": [
      "2020-07-29 16:23:05,142 INFO atomate.vasp.firetasks.parse_outputs PARSING DIRECTORY: /Users/shyamd/Dropbox/Codes/workshop/workshop/lessons/05_automated_dft/launcher_2020-07-29-23-23-04-769444\n",
      "2020-07-29 16:23:05,142 INFO atomate.vasp.drones Getting task doc for base dir :/Users/shyamd/Dropbox/Codes/workshop/workshop/lessons/05_automated_dft/launcher_2020-07-29-23-23-04-769444\n",
      "2020-07-29 16:23:05,939 INFO atomate.vasp.drones Post-processing dir:/Users/shyamd/Dropbox/Codes/workshop/workshop/lessons/05_automated_dft/launcher_2020-07-29-23-23-04-769444\n",
      "2020-07-29 16:23:05,939 WARNING atomate.vasp.drones Transformations file does not exist.\n",
      "2020-07-29 16:23:06,085 INFO atomate.vasp.drones Post-processed /Users/shyamd/Dropbox/Codes/workshop/workshop/lessons/05_automated_dft/launcher_2020-07-29-23-23-04-769444\n",
      "2020-07-29 16:23:06,374 INFO atomate.utils.database Inserting shyams-mbp.dhcp.lbnl.us:/Users/shyamd/Dropbox/Codes/workshop/workshop/lessons/05_automated_dft/launcher_2020-07-29-23-23-04-769444 with taskid = 24\n",
      "2020-07-29 16:23:06,498 INFO atomate.vasp.firetasks.parse_outputs Finished parsing with task_id: 24\n",
      "2020-07-29 16:23:06,498 INFO Task completed: {{atomate.vasp.firetasks.parse_outputs.VaspToDb}} \n",
      "2020-07-29 16:23:06,509 INFO Rocket finished\n"
     ]
    }
   ],
   "source": [
    "!rlaunch rapidfire "
   ]
  }
 ],
 "metadata": {
  "kernelspec": {
   "display_name": "Python 3.8.2 64-bit ('dev': conda)",
   "language": "python",
   "name": "python38264bitdevconda06c7c692422b4cb59f191a8cff7c413e"
  },
  "language_info": {
   "codemirror_mode": {
    "name": "ipython",
    "version": 3
   },
   "file_extension": ".py",
   "mimetype": "text/x-python",
   "name": "python",
   "nbconvert_exporter": "python",
   "pygments_lexer": "ipython3",
   "version": "3.8.3"
  }
 },
 "nbformat": 4,
 "nbformat_minor": 4
}
