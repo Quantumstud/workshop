{
 "cells": [
  {
   "cell_type": "markdown",
   "metadata": {},
   "source": [
    "# Automating DFT Exercises\n",
    "\n",
    "## Exercise 01: QChem Input/Outputs\n",
    "\n",
    "\n",
    "Another important DFT code for MP is QChem. VASP uses a plane-wave basis, which makes it very efficient for periodic crystalline systems, but not very efficient for molecules. There are a number of DFT codes that use Gaussian functions to build the basis, such as Gaussian and QChem. Let's begin this example by loading the molecular structure of Ethylene Carbonate\n",
    "\n",
    "Let's start by loading a `Molecule` object from pymatgen and importing the `ethylene_carbonate.xyz` as a `Molecule` object"
   ]
  },
  {
   "cell_type": "code",
   "execution_count": 1,
   "metadata": {},
   "outputs": [
    {
     "name": "stdout",
     "output_type": "stream",
     "text": [
      "Full Formula (H4 C3 O3)\n",
      "Reduced Formula: H4(CO)3\n",
      "Charge = 0, Spin Mult = 1\n",
      "Sites (10)\n",
      "0 O     0.310287    -1.176345    -0.374099\n",
      "1 C    -0.682156    -0.509251     0.347984\n",
      "2 C     1.528121    -0.493823    -0.092251\n",
      "3 O    -1.901588    -0.631984    -0.015154\n",
      "4 O    -0.247010     0.912691     0.370073\n",
      "5 C     1.108528     0.972764    -0.081946\n",
      "6 H     2.251945    -0.729522    -0.871996\n",
      "7 H     1.920141    -0.804271     0.883050\n",
      "8 H     1.141868     1.409846    -1.084537\n",
      "9 H     1.702594     1.580992     0.602886\n"
     ]
    }
   ],
   "source": [
    "from pymatgen import Molecule\n",
    "\n",
    "mol = Molecule.from_file(\"ethylene_carbonate.xyz\")\n",
    "print(mol)"
   ]
  },
  {
   "cell_type": "markdown",
   "metadata": {},
   "source": [
    "This is an XYZ file, which is a standard format for molecular structures. Several other formats are supported using the openbabel package that can be optionally installed.\n",
    "\n",
    "\n",
    "For the purpose of this example, we've provided a completed QChem calculation under `QChem_ethylene_carboante`. Let's use pymatgen to read the inputs in this directory.\n",
    "\n",
    "Use `tab` and `shift`+`tab` to explore the `pymatgen.io.qchem.inputs` module and find something that well let you read a QChem Input."
   ]
  },
  {
   "cell_type": "code",
   "execution_count": 2,
   "metadata": {},
   "outputs": [
    {
     "name": "stdout",
     "output_type": "stream",
     "text": [
      "Full Formula (H4 C3 O3)\n",
      "Reduced Formula: H4(CO)3\n",
      "Charge = 0.0, Spin Mult = 1\n",
      "Sites (10)\n",
      "0 O     0.310287    -1.176345    -0.374099\n",
      "1 C    -0.682156    -0.509251     0.347984\n",
      "2 C     1.528121    -0.493823    -0.092251\n",
      "3 O    -1.901588    -0.631984    -0.015154\n",
      "4 O    -0.247010     0.912691     0.370073\n",
      "5 C     1.108528     0.972764    -0.081946\n",
      "6 H     2.251945    -0.729522    -0.871996\n",
      "7 H     1.920141    -0.804271     0.883050\n",
      "8 H     1.141868     1.409846    -1.084537\n",
      "9 H     1.702594     1.580992     0.602886\n"
     ]
    }
   ],
   "source": [
    "from pymatgen.io.qchem.inputs import QCInput\n",
    "\n",
    "qcinp = QCInput.from_file(\"./QChem_etlyene_carbonate/mol.qin.gz\")\n",
    "print(qcinp.molecule)"
   ]
  },
  {
   "cell_type": "markdown",
   "metadata": {},
   "source": [
    "For QChem, the input structure is much simpler as it is all contained in one file, this mol.qin file. The output comes directly from QChem as mostly a single file caled the QCOutput file. We have a corresponding object in pymatgen to read this file.\n",
    "\n",
    "Let's do the same as above for outputs. Explore the `pymatgen.io.qchem.outputs` module and find something to read a QChem Output"
   ]
  },
  {
   "cell_type": "code",
   "execution_count": 3,
   "metadata": {},
   "outputs": [],
   "source": [
    "from pymatgen.io.qchem.outputs import QCOutput\n",
    "\n",
    "qcoutput = QCOutput(filename=\"./QChem_etlyene_carbonate/mol.qout.gz\")"
   ]
  },
  {
   "cell_type": "markdown",
   "metadata": {},
   "source": [
    "The data for this is all contained a single `data` attribute which is a dictionary with parsed information. Find the key that will get you the optimized output molecule geometry from the calculation."
   ]
  },
  {
   "cell_type": "code",
   "execution_count": 4,
   "metadata": {
    "scrolled": true
   },
   "outputs": [
    {
     "data": {
      "text/plain": [
       "dict_keys(['errors', 'warnings', 'multiple_outputs', 'charge', 'multiplicity', 'point_group', 'species', 'initial_geometry', 'initial_molecule', 'completion', 'walltime', 'cputime', 'unrestricted', 'using_GEN_SCFMAN', 'SCF', 'SCF_energy_in_the_final_basis_set', 'Total_energy_in_the_final_basis_set', 'Mulliken', 'RESP', 'solvent_method', 'solvent_data', 'final_energy', 'using_dft_d3', 'optimization', 'energy_trajectory', 'geometries', 'last_geometry', 'molecule_from_last_geometry', 'optimized_geometry', 'molecule_from_optimized_geometry', 'gradients', 'pcm_gradients', 'CDS_gradients', 'opt_constraint', 'frequency_job', 'single_point_job', 'force_job'])"
      ]
     },
     "execution_count": 4,
     "metadata": {},
     "output_type": "execute_result"
    }
   ],
   "source": [
    "qcoutput.data.keys()"
   ]
  },
  {
   "cell_type": "code",
   "execution_count": 5,
   "metadata": {},
   "outputs": [
    {
     "data": {
      "text/plain": [
       "Molecule Summary\n",
       "Site: O (0.2918, -1.1858, -0.2649)\n",
       "Site: C (-0.7138, -0.3636, 0.0702)\n",
       "Site: C (1.5471, -0.4958, -0.0800)\n",
       "Site: O (-1.8614, -0.6985, 0.1528)\n",
       "Site: O (-0.2714, 0.8816, 0.3009)\n",
       "Site: C (1.1213, 0.9646, -0.0719)\n",
       "Site: H (2.2107, -0.7524, -0.9034)\n",
       "Site: H (1.9781, -0.8165, 0.8703)\n",
       "Site: H (1.1856, 1.4299, -1.0573)\n",
       "Site: H (1.6448, 1.5675, 0.6674)"
      ]
     },
     "execution_count": 5,
     "metadata": {},
     "output_type": "execute_result"
    }
   ],
   "source": [
    "qcoutput.data[\"molecule_from_optimized_geometry\"]"
   ]
  },
  {
   "cell_type": "markdown",
   "metadata": {},
   "source": [
    "Note that the optimized geoemtry has new coordinates that should be the minimum energy configuration for ethylene carbonate. "
   ]
  },
  {
   "cell_type": "markdown",
   "metadata": {},
   "source": [
    "## Exercise 2: QChem Input Sets\n",
    "\n",
    "We also have InputSets for QChem, which act very similarly to VASP. Because the input for QChem is much simpler, these sets just represent a single input file. Let's load the molecule again just incase."
   ]
  },
  {
   "cell_type": "code",
   "execution_count": 6,
   "metadata": {},
   "outputs": [
    {
     "name": "stdout",
     "output_type": "stream",
     "text": [
      "Full Formula (H4 C3 O3)\n",
      "Reduced Formula: H4(CO)3\n",
      "Charge = 0, Spin Mult = 1\n",
      "Sites (10)\n",
      "0 O     0.310287    -1.176345    -0.374099\n",
      "1 C    -0.682156    -0.509251     0.347984\n",
      "2 C     1.528121    -0.493823    -0.092251\n",
      "3 O    -1.901588    -0.631984    -0.015154\n",
      "4 O    -0.247010     0.912691     0.370073\n",
      "5 C     1.108528     0.972764    -0.081946\n",
      "6 H     2.251945    -0.729522    -0.871996\n",
      "7 H     1.920141    -0.804271     0.883050\n",
      "8 H     1.141868     1.409846    -1.084537\n",
      "9 H     1.702594     1.580992     0.602886\n"
     ]
    }
   ],
   "source": [
    "from pymatgen import Molecule\n",
    "\n",
    "mol = Molecule.from_file(\"ethylene_carbonate.xyz\")\n",
    "print(mol)"
   ]
  },
  {
   "cell_type": "markdown",
   "metadata": {},
   "source": [
    "Explore the `pymatgen.io.qchem.sets` module and find an Input set to \"Opt\" or optimize the given molecule"
   ]
  },
  {
   "cell_type": "code",
   "execution_count": 7,
   "metadata": {},
   "outputs": [],
   "source": [
    "from pymatgen.io.qchem.sets import OptSet"
   ]
  },
  {
   "cell_type": "markdown",
   "metadata": {},
   "source": [
    "Now load up an input set and print what the QChem Input should look like"
   ]
  },
  {
   "cell_type": "code",
   "execution_count": 8,
   "metadata": {},
   "outputs": [
    {
     "name": "stdout",
     "output_type": "stream",
     "text": [
      "$molecule\n",
      " 0 1\n",
      " O      0.3102870000     -1.1763450000     -0.3740990000\n",
      " C     -0.6821560000     -0.5092510000      0.3479840000\n",
      " C      1.5281210000     -0.4938230000     -0.0922510000\n",
      " O     -1.9015880000     -0.6319840000     -0.0151540000\n",
      " O     -0.2470100000      0.9126910000      0.3700730000\n",
      " C      1.1085280000      0.9727640000     -0.0819460000\n",
      " H      2.2519450000     -0.7295220000     -0.8719960000\n",
      " H      1.9201410000     -0.8042710000      0.8830500000\n",
      " H      1.1418680000      1.4098460000     -1.0845370000\n",
      " H      1.7025940000      1.5809920000      0.6028860000\n",
      "$end\n",
      "\n",
      "$rem\n",
      "   job_type = opt\n",
      "   basis = def2-tzvppd\n",
      "   max_scf_cycles = 200\n",
      "   gen_scfman = true\n",
      "   xc_grid = 3\n",
      "   scf_algorithm = diis\n",
      "   resp_charges = true\n",
      "   symmetry = false\n",
      "   sym_ignore = true\n",
      "   method = wb97xd\n",
      "   geom_opt_max_cycles = 200\n",
      "$end\n",
      "\n"
     ]
    }
   ],
   "source": [
    "opt_set = OptSet(molecule=mol)\n",
    "print(opt_set)"
   ]
  },
  {
   "cell_type": "markdown",
   "metadata": {},
   "source": [
    "Now let's do the same to calculate the frequencies of a given Molecule"
   ]
  },
  {
   "cell_type": "code",
   "execution_count": 9,
   "metadata": {},
   "outputs": [],
   "source": [
    "from pymatgen.io.qchem.sets import FreqSet"
   ]
  },
  {
   "cell_type": "code",
   "execution_count": 10,
   "metadata": {},
   "outputs": [
    {
     "name": "stdout",
     "output_type": "stream",
     "text": [
      "$molecule\n",
      " 0 1\n",
      " O      0.3102870000     -1.1763450000     -0.3740990000\n",
      " C     -0.6821560000     -0.5092510000      0.3479840000\n",
      " C      1.5281210000     -0.4938230000     -0.0922510000\n",
      " O     -1.9015880000     -0.6319840000     -0.0151540000\n",
      " O     -0.2470100000      0.9126910000      0.3700730000\n",
      " C      1.1085280000      0.9727640000     -0.0819460000\n",
      " H      2.2519450000     -0.7295220000     -0.8719960000\n",
      " H      1.9201410000     -0.8042710000      0.8830500000\n",
      " H      1.1418680000      1.4098460000     -1.0845370000\n",
      " H      1.7025940000      1.5809920000      0.6028860000\n",
      "$end\n",
      "\n",
      "$rem\n",
      "   job_type = freq\n",
      "   basis = def2-tzvppd\n",
      "   max_scf_cycles = 200\n",
      "   gen_scfman = true\n",
      "   xc_grid = 3\n",
      "   scf_algorithm = diis\n",
      "   resp_charges = true\n",
      "   symmetry = false\n",
      "   sym_ignore = true\n",
      "   method = wb97xd\n",
      "$end\n",
      "\n"
     ]
    }
   ],
   "source": [
    "freq_set = FreqSet(mol)\n",
    "print(freq_set)"
   ]
  },
  {
   "cell_type": "markdown",
   "metadata": {},
   "source": [
    "Now inspect the parameters of the frequecny calculation input set using either `help` or `shift`+2x`tab`"
   ]
  },
  {
   "cell_type": "code",
   "execution_count": 11,
   "metadata": {},
   "outputs": [
    {
     "name": "stdout",
     "output_type": "stream",
     "text": [
      "Help on method __init__ in module pymatgen.io.qchem.sets:\n",
      "\n",
      "__init__(molecule, dft_rung=3, basis_set='def2-tzvppd', pcm_dielectric=None, smd_solvent=None, custom_smd=None, scf_algorithm='diis', max_scf_cycles=200, overwrite_inputs=None) method of pymatgen.io.qchem.sets.FreqSet instance\n",
      "    Args:\n",
      "        molecule ():\n",
      "        dft_rung ():\n",
      "        basis_set ():\n",
      "        pcm_dielectric ():\n",
      "        smd_solvent ():\n",
      "        custom_smd ():\n",
      "        scf_algorithm ():\n",
      "        max_scf_cycles ():\n",
      "        overwrite_inputs ():\n",
      "\n"
     ]
    }
   ],
   "source": [
    "help(freq_set.__init__)"
   ]
  },
  {
   "cell_type": "markdown",
   "metadata": {},
   "source": [
    "The QChem InputSets just like the VASP InputSets are designed to be flexible for various DFT parameters such as the level of theory and the solvation environment. \n",
    "\n",
    "Now try changing the DFT Rung and note what changed."
   ]
  },
  {
   "cell_type": "code",
   "execution_count": 14,
   "metadata": {},
   "outputs": [
    {
     "name": "stdout",
     "output_type": "stream",
     "text": [
      "$molecule\n",
      " 0 1\n",
      " O      0.3102870000     -1.1763450000     -0.3740990000\n",
      " C     -0.6821560000     -0.5092510000      0.3479840000\n",
      " C      1.5281210000     -0.4938230000     -0.0922510000\n",
      " O     -1.9015880000     -0.6319840000     -0.0151540000\n",
      " O     -0.2470100000      0.9126910000      0.3700730000\n",
      " C      1.1085280000      0.9727640000     -0.0819460000\n",
      " H      2.2519450000     -0.7295220000     -0.8719960000\n",
      " H      1.9201410000     -0.8042710000      0.8830500000\n",
      " H      1.1418680000      1.4098460000     -1.0845370000\n",
      " H      1.7025940000      1.5809920000      0.6028860000\n",
      "$end\n",
      "\n",
      "$rem\n",
      "   job_type = freq\n",
      "   basis = def2-tzvppd\n",
      "   max_scf_cycles = 200\n",
      "   gen_scfman = true\n",
      "   xc_grid = 3\n",
      "   scf_algorithm = diis\n",
      "   resp_charges = true\n",
      "   symmetry = false\n",
      "   sym_ignore = true\n",
      "   method = b3lyp\n",
      "$end\n",
      "\n"
     ]
    }
   ],
   "source": [
    "freq_set = FreqSet(mol,dft_rung=1)\n",
    "print(freq_set)"
   ]
  }
 ],
 "metadata": {
  "kernelspec": {
   "display_name": "Python 3.8.2 64-bit ('dev': conda)",
   "language": "python",
   "name": "python38264bitdevconda06c7c692422b4cb59f191a8cff7c413e"
  },
  "language_info": {
   "codemirror_mode": {
    "name": "ipython",
    "version": 3
   },
   "file_extension": ".py",
   "mimetype": "text/x-python",
   "name": "python",
   "nbconvert_exporter": "python",
   "pygments_lexer": "ipython3",
   "version": "3.8.3"
  }
 },
 "nbformat": 4,
 "nbformat_minor": 4
}
