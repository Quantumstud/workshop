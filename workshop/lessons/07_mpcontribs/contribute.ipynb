{
 "cells": [
  {
   "cell_type": "markdown",
   "metadata": {},
   "source": [
    "# MPContribs\n",
    "\n",
    "## Walkthrough\n",
    "\n",
    "- start with a [materials detail page](https://materialsproject.org/materials/mp-2715/#user-contribs) on MP with user contributions\n",
    "- navigate to the [portal](https://portal.mpcontribs.org) and explore\n",
    "- discover the [API documentation](https://api.mpcontribs.org) \n",
    "\n",
    "### Exercises\n",
    "\n",
    "- make yourself familiar with datasets available on MPContribs\n",
    "- use the `Search` tab to find interesting contributions and their MP detail page(s)\n",
    "- scan the example notebooks in the `Work` tab\n",
    "- consider applying for your own project via the `Apply` tab\n",
    "- feel free to ask questions on Slack\n",
    "\n",
    "\n",
    "## Contribute data on Refractive Index\n",
    "\n",
    "For demonstration purposes, we prepared data from [https://refractiveindex.info](https://refractiveindex.info) for you to contribute using the [mpcontribs-client](https://pypi.org/project/mpcontribs-client/)."
   ]
  },
  {
   "cell_type": "code",
   "execution_count": 1,
   "metadata": {},
   "outputs": [
    {
     "name": "stdout",
     "output_type": "stream",
     "text": [
      "FW Echo Test: MP Workshop\n"
     ]
    }
   ],
   "source": [
    "from mp_workshop.mpcontribs import data\n",
    "from mpcontribs.client import Client"
   ]
  },
  {
   "cell_type": "markdown",
   "metadata": {},
   "source": [
    "We're setting the name of our project and initialize the API client with our API key. Here, we use a dedicated `sandbox` project and provide you with the API key through Slack. Feel free to use your own project name and API key instead if you were successful in applying for a project (and getting it approved) during the previous exercise."
   ]
  },
  {
   "cell_type": "code",
   "execution_count": 2,
   "metadata": {},
   "outputs": [],
   "source": [
    "name = 'sandbox' # this should/could be your project\n",
    "client = Client('api-key-here')"
   ]
  },
  {
   "cell_type": "markdown",
   "metadata": {},
   "source": [
    "### Retrieve and update project info\n",
    "\n",
    "We might have missed to add all references when we applied for the project on the portal. So let's update them and also set `unique_identifiers` to `False`. This flag indicates that this project can contain multiple contributions (rows in the landing page's overview table) for the same MP material (`mp-id`)."
   ]
  },
  {
   "cell_type": "code",
   "execution_count": 3,
   "metadata": {
    "scrolled": true
   },
   "outputs": [
    {
     "data": {
      "text/plain": [
       "{'unique_identifiers': False,\n",
       " 'references': [{'label': 'Docs', 'url': 'https://mpcontribs.org'},\n",
       "  {'label': 'Source', 'url': 'https://refractiveindex.info'}]}"
      ]
     },
     "execution_count": 3,
     "metadata": {},
     "output_type": "execute_result"
    }
   ],
   "source": [
    "client.projects.update_entry(pk=name, project={\n",
    "    'unique_identifiers': False,\n",
    "    'references': [\n",
    "        {'label': 'Docs', 'url': 'https://mpcontribs.org'},\n",
    "        {'label': 'Source', 'url': 'https://refractiveindex.info'}\n",
    "    ]\n",
    "}).result()"
   ]
  },
  {
   "cell_type": "markdown",
   "metadata": {},
   "source": [
    "The response above indicates which fields have been updated in the database. We can confirm that by retrieving the full information stored for the project. Note that, the `columns` key is set and updated automatically when data is later added to the project."
   ]
  },
  {
   "cell_type": "code",
   "execution_count": 4,
   "metadata": {},
   "outputs": [
    {
     "data": {
      "text/html": [
       "<table class=\"table is-narrow is-fullwidth has-background-light\"><tr><th>name</th><td>sandbox</td></tr><tr><th>is_public</th><td>True</td></tr><tr><th>title</th><td>Sandbox</td></tr><tr><th>owner</th><td>phuck@lbl.gov</td></tr><tr><th>is_approved</th><td>True</td></tr><tr><th>unique_identifiers</th><td>False</td></tr><tr><th>long_title</th><td>Sandbox for Workshop 2020</td></tr><tr><th>authors</th><td>P. Huck</td></tr><tr><th>description</th><td>This project is for testing purposes only. It&#x27;s being used for the MP Workshop, for instance, and might be reset/deleted without advanced notice.</td></tr><tr><th>references</th><td><table class=\"table is-narrow is-fullwidth has-background-light\"><thead><tr><th>label</th><th>url</th></tr></thead><tbody><tr><td>Docs</td><td>https://mpcontribs.org</td></tr><tr><td>Source</td><td>https://refractiveindex.info</td></tr></tbody></table></td></tr><tr><th>columns</th><td></td></tr></table>"
      ],
      "text/plain": [
       "<IPython.core.display.HTML object>"
      ]
     },
     "metadata": {},
     "output_type": "display_data"
    }
   ],
   "source": [
    "client.get_project(name).pretty()"
   ]
  },
  {
   "cell_type": "markdown",
   "metadata": {},
   "source": [
    "### Create contributions\n",
    "\n",
    "The `data` dictionary imported above from our workshop library contains a small list of ready-to-go contributions for each attendee. Let's find our entry and explore it a little."
   ]
  },
  {
   "cell_type": "code",
   "execution_count": 5,
   "metadata": {},
   "outputs": [
    {
     "data": {
      "text/plain": [
       "dict_keys(['aggrey', 'saleemaldajani', 'sayoudaq', 'arias', 'baatar', 'bagherzad', 'bavdekar', 'rpuga', 'bogdan', 'bonkowski', 'chalk', 'cuillier', 'dahliah', 'delgado', 'adonakowski', 'anetxeb', 'fallon', 'sfaraji', 'gangopadhyay', 'garcia', 'giammona', 'gibson', 'jglodo', 'tul10053', 'guillen', 'sgup', 'hjzfree', 'hassan', 'hawkins', 'homer', 'hoermann', 'hossain', 'ajh618', 'akrami1', 'cjang', 'jiang', 'jinxing', 'djohnson', 'hjohnson', 'juhasz', 'kaliappan', 'krkaufma', 'kinsley', 'physics979', 'lanetti', 'fall', 'lau', 'xl2778', 'liang', 'lin', 'jlow', 'luyuan', 'amantra', 'lamcrae', 'fanchem', 'mirza', 'tara', 'imonterrubio', 'nawwar', 'oertel', 'hiroko', 'no6', 'spa031', 'paulino', 'gollapalli', 'xqi', 'aramac', 'mreynaud', 'cicenergigune', 'rrivers', 'rom', 'schwietert', 'sebastian', 'shaw', 'psonbell', 'sspr', 'ksteirer', 'stuckner', 'sun', 'atantillo', 'tappan', 'taylor', 'prabalt', 'tiwari', 'tolentino', 'tomczak', 'tsaie', 'vanbever', 'vasileiadis', 'verma', 'wang', 'n01392810', 'wufeifeng', 'yuan', 'hongxing', 'zyzhang', 'xiaojing', 'dwaraknath', 'horton', 'huck', 'persson'])"
      ]
     },
     "execution_count": 5,
     "metadata": {},
     "output_type": "execute_result"
    }
   ],
   "source": [
    "data.keys()"
   ]
  },
  {
   "cell_type": "code",
   "execution_count": 6,
   "metadata": {},
   "outputs": [
    {
     "data": {
      "text/plain": [
       "[{'identifier': 'mp-6134',\n",
       "  'data': {'type': 'f4',\n",
       "   'Δλ': {'min': '0.4 µm', 'max': '1.0 µm'},\n",
       "   'coefficients': {'c0': '1.92155',\n",
       "    'c1': '0.00494',\n",
       "    'c2': '0',\n",
       "    'c3': '0.00617',\n",
       "    'c4': '1',\n",
       "    'c5': '0',\n",
       "    'c6': '0',\n",
       "    'c7': '0',\n",
       "    'c8': '1',\n",
       "    'c9': '-0.00373',\n",
       "    'c10': '2'}},\n",
       "  'tables': [            wl         n\n",
       "   Woods-e                 \n",
       "   0        0.400  1.397522\n",
       "   1        0.406  1.397165\n",
       "   2        0.412  1.396824\n",
       "   3        0.418  1.396498\n",
       "   4        0.424  1.396186\n",
       "   ...        ...       ...\n",
       "   96       0.976  1.386801\n",
       "   97       0.982  1.386762\n",
       "   98       0.988  1.386723\n",
       "   99       0.994  1.386685\n",
       "   100      1.000  1.386647\n",
       "   \n",
       "   [101 rows x 2 columns]]},\n",
       " {'identifier': 'mp-6134',\n",
       "  'data': {'type': 'f4',\n",
       "   'Δλ': {'min': '0.4 µm', 'max': '1.0 µm'},\n",
       "   'coefficients': {'c0': '1.92552',\n",
       "    'c1': '0.00492',\n",
       "    'c2': '0',\n",
       "    'c3': '0.00569',\n",
       "    'c4': '1',\n",
       "    'c5': '0',\n",
       "    'c6': '0',\n",
       "    'c7': '0',\n",
       "    'c8': '1',\n",
       "    'c9': '-0.00421',\n",
       "    'c10': '2'}},\n",
       "  'tables': [            wl         n\n",
       "   Woods-o                 \n",
       "   0        0.400  1.398832\n",
       "   1        0.406  1.398478\n",
       "   2        0.412  1.398140\n",
       "   3        0.418  1.397817\n",
       "   4        0.424  1.397507\n",
       "   ...        ...       ...\n",
       "   96       0.976  1.388058\n",
       "   97       0.982  1.388017\n",
       "   98       0.988  1.387977\n",
       "   99       0.994  1.387937\n",
       "   100      1.000  1.387897\n",
       "   \n",
       "   [101 rows x 2 columns]]}]"
      ]
     },
     "execution_count": 6,
     "metadata": {},
     "output_type": "execute_result"
    }
   ],
   "source": [
    "me = \"huck\"\n",
    "data[me]"
   ]
  },
  {
   "cell_type": "markdown",
   "metadata": {},
   "source": [
    "Notice that a contribution to a specific MP material contains 3 optional components:\n",
    "\n",
    "- simple (potentially nested) \"key-value\" data\n",
    "- tables as Pandas DataFrame objects (think spreadsheets and csv files)\n",
    "- structures as Pymatgen Structure objects (think CIF, POSCAR, ...)\n",
    "\n",
    "The only thing left to do here is a quick loop over the contributions to assign each of them to our project and set it to public. By default, projects and contributions are private and only visible (and writable) to project owners and their collaborators. The owner needs to explicitly request for a collaborator to be added to the project group."
   ]
  },
  {
   "cell_type": "code",
   "execution_count": 7,
   "metadata": {},
   "outputs": [
    {
     "data": {
      "text/plain": [
       "2"
      ]
     },
     "execution_count": 7,
     "metadata": {},
     "output_type": "execute_result"
    }
   ],
   "source": [
    "for contrib in data[me]:\n",
    "    contrib[\"project\"] = name\n",
    "    contrib[\"is_public\"] = True\n",
    "    \n",
    "len(data[me])"
   ]
  },
  {
   "cell_type": "markdown",
   "metadata": {},
   "source": [
    "### Submit contributions\n",
    "\n",
    "Simply provide your list of contributions as argument to the client's `submit_contributions` function to prepare and upload them to MPContribs. Duplicate checking will happen automatically if `unique_identifers` is set to `True` for the project (the default). If successful, the client will return the number of contributions submitted."
   ]
  },
  {
   "cell_type": "code",
   "execution_count": 8,
   "metadata": {},
   "outputs": [
    {
     "data": {
      "application/vnd.jupyter.widget-view+json": {
       "model_id": "005bfd03b91f417392591a7e58a60a52",
       "version_major": 2,
       "version_minor": 0
      },
      "text/plain": [
       "HBox(children=(FloatProgress(value=0.0, max=2.0), HTML(value='')))"
      ]
     },
     "metadata": {},
     "output_type": "display_data"
    },
    {
     "name": "stdout",
     "output_type": "stream",
     "text": [
      "\n"
     ]
    }
   ],
   "source": [
    "client.submit_contributions(data[me])"
   ]
  },
  {
   "cell_type": "markdown",
   "metadata": {},
   "source": [
    "Your contributions should now show up on the project landing page on the MPContribs portal as well as on the according material details pages on MP :)"
   ]
  },
  {
   "cell_type": "markdown",
   "metadata": {},
   "source": [
    "### Retrieve and query contributions\n",
    "\n",
    "Choose an `mp-id` from the landing page and retrieve the IDs for its contributions. Use one of the IDs to show a pretty display of the data."
   ]
  },
  {
   "cell_type": "code",
   "execution_count": 9,
   "metadata": {},
   "outputs": [
    {
     "data": {
      "text/html": [
       "<table class=\"table is-narrow is-fullwidth has-background-light\"><tr><th>project</th><td>sandbox</td></tr><tr><th>identifier</th><td>mp-6134</td></tr><tr><th>formula</th><td>LiCaAlF6</td></tr><tr><th>is_public</th><td>True</td></tr><tr><th>last_modified</th><td>2020-07-30 01:24:49.263000</td></tr><tr><th>data</th><td><table class=\"table is-narrow is-fullwidth has-background-light\"><tr><th>type</th><td>f4</td></tr><tr><th>Δλ</th><td><table class=\"table is-narrow is-fullwidth has-background-light\"><tr><th>min</th><td>400.0 nm</td></tr><tr><th>max</th><td>1.0 µm</td></tr></table></td></tr><tr><th>coefficients</th><td><table class=\"table is-narrow is-fullwidth has-background-light\"><tr><th>c0</th><td>1.92155</td></tr><tr><th>c1</th><td>0.00494</td></tr><tr><th>c2</th><td>0</td></tr><tr><th>c3</th><td>0.00617</td></tr><tr><th>c4</th><td>1</td></tr><tr><th>c5</th><td>0</td></tr><tr><th>c6</th><td>0</td></tr><tr><th>c7</th><td>0</td></tr><tr><th>c8</th><td>1</td></tr><tr><th>c9</th><td>-0.00373</td></tr><tr><th>c10</th><td>2</td></tr></table></td></tr></table></td></tr><tr><th>structures</th><td></td></tr><tr><th>tables</th><td><table class=\"table is-narrow is-fullwidth has-background-light\"><thead><tr><th>id</th><th>name</th><th>md5</th></tr></thead><tbody><tr><td>5f2221607798578b36163216</td><td>Woods-e</td><td>30409de9efda60793528098dd33642b4</td></tr></tbody></table></td></tr><tr><th>notebook</th><td><table class=\"table is-narrow is-fullwidth has-background-light\"><tr><th>id</th><td>5f2221617798578b36163218</td></tr></table></td></tr><tr><th>id</th><td>5f2221607798578b36163217</td></tr></table>"
      ],
      "text/plain": [
       "<IPython.core.display.HTML object>"
      ]
     },
     "metadata": {},
     "output_type": "display_data"
    }
   ],
   "source": [
    "resp = client.contributions.get_entries(\n",
    "    project=name, identifier=\"mp-6134\", _fields=[\"id\"]\n",
    ").result()\n",
    "cids = [d[\"id\"] for d in resp[\"data\"]]\n",
    "contrib = client.get_contribution(cids[0])\n",
    "contrib.pretty()"
   ]
  },
  {
   "cell_type": "markdown",
   "metadata": {},
   "source": [
    "Grab the table ID and retrieve it as Pandas DataFrame. You can plot it interactively using Pandas integration with Plotly through the `plot()` function."
   ]
  },
  {
   "cell_type": "code",
   "execution_count": 10,
   "metadata": {},
   "outputs": [
    {
     "data": {
      "text/html": [
       "<div>\n",
       "<style scoped>\n",
       "    .dataframe tbody tr th:only-of-type {\n",
       "        vertical-align: middle;\n",
       "    }\n",
       "\n",
       "    .dataframe tbody tr th {\n",
       "        vertical-align: top;\n",
       "    }\n",
       "\n",
       "    .dataframe thead th {\n",
       "        text-align: right;\n",
       "    }\n",
       "</style>\n",
       "<table border=\"1\" class=\"dataframe\">\n",
       "  <thead>\n",
       "    <tr style=\"text-align: right;\">\n",
       "      <th></th>\n",
       "      <th>n</th>\n",
       "    </tr>\n",
       "    <tr>\n",
       "      <th>wl</th>\n",
       "      <th></th>\n",
       "    </tr>\n",
       "  </thead>\n",
       "  <tbody>\n",
       "    <tr>\n",
       "      <th>0.4</th>\n",
       "      <td>1.3975215819099</td>\n",
       "    </tr>\n",
       "    <tr>\n",
       "      <th>0.406</th>\n",
       "      <td>1.3971648958942</td>\n",
       "    </tr>\n",
       "    <tr>\n",
       "      <th>0.412</th>\n",
       "      <td>1.3968239880086002</td>\n",
       "    </tr>\n",
       "    <tr>\n",
       "      <th>0.418</th>\n",
       "      <td>1.3964979034667</td>\n",
       "    </tr>\n",
       "    <tr>\n",
       "      <th>0.424</th>\n",
       "      <td>1.3961857588595</td>\n",
       "    </tr>\n",
       "    <tr>\n",
       "      <th>...</th>\n",
       "      <td>...</td>\n",
       "    </tr>\n",
       "    <tr>\n",
       "      <th>0.976</th>\n",
       "      <td>1.3868008648135</td>\n",
       "    </tr>\n",
       "    <tr>\n",
       "      <th>0.982</th>\n",
       "      <td>1.3867619907128999</td>\n",
       "    </tr>\n",
       "    <tr>\n",
       "      <th>0.988</th>\n",
       "      <td>1.3867234413885001</td>\n",
       "    </tr>\n",
       "    <tr>\n",
       "      <th>0.994</th>\n",
       "      <td>1.386685206585</td>\n",
       "    </tr>\n",
       "    <tr>\n",
       "      <th>1.0</th>\n",
       "      <td>1.3866472763569</td>\n",
       "    </tr>\n",
       "  </tbody>\n",
       "</table>\n",
       "<p>101 rows × 1 columns</p>\n",
       "</div>"
      ],
      "text/plain": [
       "                        n\n",
       "wl                       \n",
       "0.4       1.3975215819099\n",
       "0.406     1.3971648958942\n",
       "0.412  1.3968239880086002\n",
       "0.418     1.3964979034667\n",
       "0.424     1.3961857588595\n",
       "...                   ...\n",
       "0.976     1.3868008648135\n",
       "0.982  1.3867619907128999\n",
       "0.988  1.3867234413885001\n",
       "0.994      1.386685206585\n",
       "1.0       1.3866472763569\n",
       "\n",
       "[101 rows x 1 columns]"
      ]
     },
     "execution_count": 10,
     "metadata": {},
     "output_type": "execute_result"
    }
   ],
   "source": [
    "tid = contrib[\"tables\"][0][\"id\"]\n",
    "client.get_table(tid)#.plot()"
   ]
  },
  {
   "cell_type": "markdown",
   "metadata": {},
   "source": [
    "Finally, let's build up a more complicated query to reduce the list of contributions to the ones we might be interested in."
   ]
  },
  {
   "cell_type": "code",
   "execution_count": 11,
   "metadata": {},
   "outputs": [
    {
     "data": {
      "text/plain": [
       "{'data': [{'id': '5f2221607798578b36163217',\n",
       "   'identifier': 'mp-6134',\n",
       "   'formula': 'LiCaAlF6',\n",
       "   'data': {'type': 'f4',\n",
       "    'coefficients': {'c0': {'value': 1.92155}, 'c1': {'value': 0.00494}}}}],\n",
       " 'has_more': False,\n",
       " 'total_count': 1,\n",
       " 'total_pages': 1}"
      ]
     },
     "execution_count": 11,
     "metadata": {},
     "output_type": "execute_result"
    }
   ],
   "source": [
    "query = {\n",
    "    \"project\": name,\n",
    "    \"formula__contains\": \"Li\",\n",
    "    \"data__type__contains\": \"f4\",\n",
    "    \"data__coefficients__c1__value__gte\": 4.93e-3,\n",
    "    \"_order_by\": \"data__coefficients__c1__value\",\n",
    "    \"order\": \"desc\",\n",
    "    \"_fields\": [\n",
    "        \"id\", \"identifier\", \"formula\",\n",
    "        \"data.type\", \"data.coefficients.c0.value\",\n",
    "        \"data.coefficients.c1.value\"\n",
    "    ]\n",
    "}\n",
    "client.contributions.get_entries(**query).result()"
   ]
  },
  {
   "cell_type": "markdown",
   "metadata": {},
   "source": [
    "### Exercises\n",
    "\n",
    "- check out the `columns` field in the project information\n",
    "- query the `carrier_transport` or another dataset of your choice\n",
    "- retrieve a table, display and plot it interactively\n",
    "- if you used your own project, delete the refraction index data and start adding your own :)\n",
    "- join the dedicated MPContribs [Slack](https://join.slack.com/t/mpcontribs/shared_invite/zt-g83gus5e-Z4lPLg0cO3KvihYWckCbEA)"
   ]
  }
 ],
 "metadata": {
  "kernelspec": {
   "display_name": "Python 3",
   "language": "python",
   "name": "python3"
  },
  "language_info": {
   "codemirror_mode": {
    "name": "ipython",
    "version": 3
   },
   "file_extension": ".py",
   "mimetype": "text/x-python",
   "name": "python",
   "nbconvert_exporter": "python",
   "pygments_lexer": "ipython3",
   "version": "3.8.3"
  }
 },
 "nbformat": 4,
 "nbformat_minor": 2
}
