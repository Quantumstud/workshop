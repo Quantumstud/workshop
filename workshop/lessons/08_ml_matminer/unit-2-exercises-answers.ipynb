{
 "cells": [
  {
   "cell_type": "markdown",
   "metadata": {},
   "source": [
    "# Generating materials descriptors – Exercises\n",
    "\n",
    "In these exercises, we'll load a cleaned dataframe, decorate it with multiple descriptors, and prepare it to be used for machine learning.\n",
    "\n",
    "Before starting, we need to use matminer's `load_dataframe_from_json()` function to load a cleaned version of the `elastic_tensor_2015` dataset. We will use this dataset for all the exercises."
   ]
  },
  {
   "cell_type": "code",
   "execution_count": null,
   "metadata": {},
   "outputs": [],
   "source": [
    "import os\n",
    "from matminer.utils.io import load_dataframe_from_json\n",
    "\n",
    "df = load_dataframe_from_json(os.path.join(\"resources\", \"elastic_tensor_2015_cleaned.json\"))\n",
    "df.head()"
   ]
  },
  {
   "cell_type": "markdown",
   "metadata": {},
   "source": [
    "## Exercise 1: Convert formulas to pymatgen Compositions\n",
    "\n",
    "Use matminer's `StrToComposition` conversion featurizer to first convert the `formula` column of the dataframe to pymatgen `Composition`s. This is necessary because matminer's Composition featurizers need pymatgen compositions as input. "
   ]
  },
  {
   "cell_type": "code",
   "execution_count": null,
   "metadata": {},
   "outputs": [],
   "source": [
    "from matminer.featurizers.conversions import StrToComposition\n",
    "\n",
    "stc = StrToComposition()\n",
    "\n",
    "# Complete exercise below\n",
    "\n",
    "df = stc.featurize_dataframe(df, \"formula\")\n",
    "df.head()"
   ]
  },
  {
   "cell_type": "markdown",
   "metadata": {},
   "source": [
    "## Exercise 2: Add composition features\n",
    "\n",
    "Now add `ElementFraction` features by featurizing the `composition` column."
   ]
  },
  {
   "cell_type": "code",
   "execution_count": null,
   "metadata": {},
   "outputs": [],
   "source": [
    "from matminer.featurizers.composition import ElementFraction\n",
    "\n",
    "ep = ElementFraction()\n",
    "\n",
    "# Complete exercise below\n",
    "\n",
    "df = ep.featurize_dataframe(df, \"composition\")\n",
    "df.head()"
   ]
  },
  {
   "cell_type": "markdown",
   "metadata": {},
   "source": [
    "## Exercise 3: Add structure features\n",
    "\n",
    "Finally, structure features using the `DensityFeatures` featurizer on the `structure` column."
   ]
  },
  {
   "cell_type": "code",
   "execution_count": null,
   "metadata": {},
   "outputs": [],
   "source": [
    "from matminer.featurizers.structure import DensityFeatures\n",
    "\n",
    "de = DensityFeatures()\n",
    "\n",
    "# Complete exercise below\n",
    "\n",
    "df = de.featurize_dataframe(df, \"structure\")\n",
    "df.head()"
   ]
  },
  {
   "cell_type": "markdown",
   "metadata": {},
   "source": [
    "Great! We've generated our features. Onto the next section."
   ]
  }
 ],
 "metadata": {
  "kernelspec": {
   "display_name": "Python 3",
   "language": "python",
   "name": "python3"
  },
  "language_info": {
   "codemirror_mode": {
    "name": "ipython",
    "version": 3
   },
   "file_extension": ".py",
   "mimetype": "text/x-python",
   "name": "python",
   "nbconvert_exporter": "python",
   "pygments_lexer": "ipython3",
   "version": "3.6.7"
  }
 },
 "nbformat": 4,
 "nbformat_minor": 2
}
