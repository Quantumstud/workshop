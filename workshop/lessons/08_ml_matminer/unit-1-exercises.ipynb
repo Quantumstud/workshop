{
 "cells": [
  {
   "cell_type": "markdown",
   "metadata": {},
   "source": [
    "# Materials data science: data retrieval and filtering – Exercises\n",
    "\n",
    "## Exercise 1: Load and examine the `elastic_tensor_2015` dataset\n",
    "\n",
    "Matminer includes a dataset called `elastic_tensor_2015`. It contains a set of computed elastic properties of materials sourced from the paper:\n",
    "\n",
    "> \"Charting the complete elastic properties of inorganic crystalline compounds\", M. de Jong et al., Sci. Data. 2 (2015) 150009.\"\n",
    "\n",
    "Load this dataset using the `load_dataset()` function and determine:\n",
    "- the number of entries it contains (tip: pandas `DataFrame` objects have a `describe()` function)\n",
    "- the largest value of bulk modulus in the dataset (bulk modulus is given in the `K_VRH` column)"
   ]
  },
  {
   "cell_type": "code",
   "execution_count": null,
   "metadata": {},
   "outputs": [],
   "source": [
    "from matminer.datasets import load_dataset\n",
    "\n",
    "df = load_dataset(___)\n"
   ]
  },
  {
   "cell_type": "markdown",
   "metadata": {},
   "source": [
    "## Exercise 2: Filter the dataset based on the number of sites\n",
    "\n",
    "You are constructing a machine learning model for elastic constants that is only designed to be employed on structures containing a small number of atomic sites. You should filter the dataset to only include entries where `nsites` is less than 20 and determine:\n",
    "- the number of entries in the filtered dataset\n",
    "- the average number of sites across all entries in your filtered dataset\n"
   ]
  },
  {
   "cell_type": "code",
   "execution_count": null,
   "metadata": {},
   "outputs": [],
   "source": [
    "from matminer.datasets import load_dataset\n",
    "\n",
    "df = load_dataset(\"elastic_tensor_2015\")\n",
    "\n",
    "# complete exercise below\n"
   ]
  },
  {
   "cell_type": "markdown",
   "metadata": {},
   "source": [
    "## Exercise 3: Remove columns unnecessary for machine learning\n",
    "\n",
    "The elastic tensor dataset contains many columns that are not particular relevant for machine learning. You should filter the dataset, so that it only contains the `formula`, `structure`, and `K_VRH` (bulk modulus) columns.\n",
    "\n",
    "*Tip: the pandas `DataFrame` objects implement a `drop()` function that can be used for dropping both rows and columns. Make sure you set the `axis` argument correctly.*"
   ]
  },
  {
   "cell_type": "code",
   "execution_count": null,
   "metadata": {},
   "outputs": [],
   "source": [
    "from matminer.datasets import load_dataset\n",
    "\n",
    "df = load_dataset(\"elastic_tensor_2015\")\n",
    "\n",
    "# complete exercise below\n"
   ]
  },
  {
   "cell_type": "markdown",
   "metadata": {},
   "source": [
    "## Advanced exercise: calculate Young's modulus"
   ]
  },
  {
   "cell_type": "markdown",
   "metadata": {},
   "source": [
    "Young's modulus, $E$, is given by:\n",
    "\n",
    "$$\n",
    "E = \\frac{9KG}{G+3K},\n",
    "$$\n",
    "\n",
    "where $K$ is the bulk modulus (column `K_VRH`), and $G$ is the shear modulus (column `G_VRH`).\n",
    "\n",
    "Calculate Young's modulus for all entries in the dataset and store them in a new column called `E_VRH`. What is the average Young modulus over the entire dataset?"
   ]
  },
  {
   "cell_type": "code",
   "execution_count": null,
   "metadata": {},
   "outputs": [],
   "source": [
    "from matminer.datasets import load_dataset\n",
    "\n",
    "df = load_dataset(\"elastic_tensor_2015\")\n",
    "\n",
    "# complete exercise below\n"
   ]
  }
 ],
 "metadata": {
  "kernelspec": {
   "display_name": "Python 3",
   "language": "python",
   "name": "python3"
  },
  "language_info": {
   "codemirror_mode": {
    "name": "ipython",
    "version": 3
   },
   "file_extension": ".py",
   "mimetype": "text/x-python",
   "name": "python",
   "nbconvert_exporter": "python",
   "pygments_lexer": "ipython3",
   "version": "3.6.7"
  }
 },
 "nbformat": 4,
 "nbformat_minor": 2
}
