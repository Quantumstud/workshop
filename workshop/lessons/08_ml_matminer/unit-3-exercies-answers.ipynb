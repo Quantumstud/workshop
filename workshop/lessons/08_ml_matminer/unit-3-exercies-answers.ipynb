{
 "cells": [
  {
   "cell_type": "markdown",
   "metadata": {},
   "source": [
    "# Machine learning models – Exercises\n",
    "\n",
    "In these exercises, we'll load a cleaned and featurized dataframe then use scikit-learn to predict materials properties.\n",
    "\n",
    "Before starting, we need to use matminer's `load_dataframe_from_json()` function to load a cleaned and featurized version of the `dielectric_constant` dataset. We will use this dataset for all the exercises."
   ]
  },
  {
   "cell_type": "code",
   "execution_count": null,
   "metadata": {},
   "outputs": [],
   "source": [
    "import os\n",
    "from matminer.utils.io import load_dataframe_from_json\n",
    "\n",
    "df = load_dataframe_from_json(os.path.join(\"resources\", \"dielectric_constant_featurized.json\"))\n",
    "df.head()"
   ]
  },
  {
   "cell_type": "markdown",
   "metadata": {},
   "source": [
    "## Exercise 1: Split dataset in target property and features\n",
    "\n",
    "You first need to partition the data into the target property and features used for learning. For this dataset, the target property is contained in the `total_dielectric` column. The features are all other columns, except `structure`, and `composition`.\n",
    "\n",
    "The target property data should be stored in the `y` variable. The set of features used for learning should be stored in the `X` variable.\n",
    "\n",
    "*Hint remember to exclude the target property from the feature set.* "
   ]
  },
  {
   "cell_type": "code",
   "execution_count": null,
   "metadata": {},
   "outputs": [],
   "source": [
    "# Fill in the blanks\n",
    "\n",
    "y = df[\"total_dielectric\"].values\n",
    "\n",
    "X = df.drop([\"structure\", \"composition\", \"total_dielectric\"], axis=1)"
   ]
  },
  {
   "cell_type": "markdown",
   "metadata": {},
   "source": [
    "## Exercise 2: Train a random forest model on the dataset\n",
    "\n",
    "Train a random forest model with 150 estimators on the dataset. Next, use the model to get predictions for all samples and store them to the `y_pred` variable."
   ]
  },
  {
   "cell_type": "code",
   "execution_count": null,
   "metadata": {},
   "outputs": [],
   "source": [
    "from sklearn.ensemble import RandomForestRegressor\n",
    "\n",
    "# Fill in the blanks below\n",
    "\n",
    "rf = RandomForestRegressor(n_estimators=150)\n",
    "\n",
    "rf.fit(X, y)\n",
    "\n",
    "y_pred = rf.predict(X)"
   ]
  },
  {
   "cell_type": "markdown",
   "metadata": {},
   "source": [
    "To see how well your model is performing, run the next cell."
   ]
  },
  {
   "cell_type": "code",
   "execution_count": null,
   "metadata": {},
   "outputs": [],
   "source": [
    "import numpy as np\n",
    "from sklearn.metrics import mean_squared_error\n",
    "\n",
    "mse = mean_squared_error(y, y_pred)\n",
    "print('training RMSE = {:.3f}'.format(np.sqrt(mse)))"
   ]
  },
  {
   "cell_type": "markdown",
   "metadata": {},
   "source": [
    "## Exercise 3: Evaluate the model using cross validation"
   ]
  },
  {
   "cell_type": "markdown",
   "metadata": {},
   "source": [
    "Evaluate your random forest model using cross validation with 5 splits. This will give a more realistic idea of how well your model will perform in practice."
   ]
  },
  {
   "cell_type": "code",
   "execution_count": null,
   "metadata": {},
   "outputs": [],
   "source": [
    "from sklearn.model_selection import KFold\n",
    "from sklearn.model_selection import cross_val_score\n",
    "\n",
    "# Fill in the blanks below\n",
    "\n",
    "kfold = KFold(n_splits=5)\n",
    "\n",
    "scores = cross_val_score(rf, X, y, scoring='neg_mean_squared_error', cv=kfold)"
   ]
  },
  {
   "cell_type": "markdown",
   "metadata": {},
   "source": [
    "The final cross validation score can be printed by running the cell below."
   ]
  },
  {
   "cell_type": "code",
   "execution_count": null,
   "metadata": {},
   "outputs": [],
   "source": [
    "rmse_scores = [np.sqrt(abs(s)) for s in scores]\n",
    "print('Mean RMSE: {:.3f}'.format(np.mean(rmse_scores)))"
   ]
  }
 ],
 "metadata": {
  "kernelspec": {
   "display_name": "Python 3",
   "language": "python",
   "name": "python3"
  },
  "language_info": {
   "codemirror_mode": {
    "name": "ipython",
    "version": 3
   },
   "file_extension": ".py",
   "mimetype": "text/x-python",
   "name": "python",
   "nbconvert_exporter": "python",
   "pygments_lexer": "ipython3",
   "version": "3.6.7"
  }
 },
 "nbformat": 4,
 "nbformat_minor": 2
}
